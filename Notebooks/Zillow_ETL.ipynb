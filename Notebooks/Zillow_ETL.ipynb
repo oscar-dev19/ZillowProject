{
 "cells": [
  {
   "cell_type": "markdown",
   "metadata": {
    "id": "_yCKAV4pyfTL"
   },
   "source": [
    "# ETL For Zillow Research Data.\n",
    "---"
   ]
  },
  {
   "cell_type": "markdown",
   "metadata": {
    "id": "fyratSEFz7oP"
   },
   "source": [
    "#### Set up Logging for ETL\n",
    "----"
   ]
  },
  {
   "cell_type": "code",
   "execution_count": 2,
   "metadata": {},
   "outputs": [],
   "source": [
    "import logging\n",
    "\n",
    "# Create a custom logger\n",
    "logger = logging.getLogger('zillow_etl')\n",
    "\n",
    "# Set the log level\n",
    "logger.setLevel(logging.DEBUG)\n",
    "\n",
    "# Create handlers\n",
    "c_handler = logging.StreamHandler()\n",
    "f_handler = logging.FileHandler('etl.log')\n",
    "c_handler.setLevel(logging.WARNING)\n",
    "f_handler.setLevel(logging.DEBUG)\n",
    "\n",
    "# Create formatters and add them to handlers\n",
    "c_format = logging.Formatter('%(name)s - %(levelname)s - %(message)s')\n",
    "f_format = logging.Formatter('%(asctime)s - %(name)s - %(levelname)s - %(message)s')\n",
    "c_handler.setFormatter(c_format)\n",
    "f_handler.setFormatter(f_format)\n",
    "\n",
    "# Add handlers to the logger\n",
    "logger.addHandler(c_handler)\n",
    "logger.addHandler(f_handler)\n",
    "\n",
    "logger.info(\"Logger for Zillow ETL initialized\")\n"
   ]
  },
  {
   "cell_type": "markdown",
   "metadata": {
    "id": "mGOzuIc3ydpd"
   },
   "source": [
    "## Extraction\n",
    "---"
   ]
  },
  {
   "cell_type": "markdown",
   "metadata": {
    "id": "eRFJkY3LzkR2"
   },
   "source": [
    "#### Data URLs"
   ]
  },
  {
   "cell_type": "code",
   "execution_count": 3,
   "metadata": {
    "id": "nJuU2I3igWlD"
   },
   "outputs": [],
   "source": [
    "zhvi_data_url = 'https://files.zillowstatic.com/research/public_csvs/zhvi/Metro_zhvi_uc_sfrcondo_tier_0.33_0.67_sm_sa_month.csv?t=1716516118'\n",
    "zhvf_data_url = 'https://files.zillowstatic.com/research/public_csvs/zhvf_growth/Metro_zhvf_growth_uc_sfrcondo_tier_0.33_0.67_sm_sa_month.csv?t=1716516118'\n",
    "rental_data_url = 'https://files.zillowstatic.com/research/public_csvs/zori/Metro_zori_uc_sfrcondomfr_sm_month.csv?t=1716516118'\n",
    "listings_data_url = 'https://files.zillowstatic.com/research/public_csvs/invt_fs/Metro_invt_fs_uc_sfrcondo_sm_month.csv?t=1717335854'\n",
    "sales_data_url = 'https://files.zillowstatic.com/research/public_csvs/sales_count_now/Metro_sales_count_now_uc_sfrcondo_month.csv?t=1717335854'\n",
    "days_market_data_url = 'https://files.zillowstatic.com/research/public_csvs/mean_doz_pending/Metro_mean_doz_pending_uc_sfrcondo_sm_month.csv?t=1717335854'\n",
    "market_heat_data_url ='https://files.zillowstatic.com/research/public_csvs/market_temp_index/Metro_market_temp_index_uc_sfrcondo_month.csv?t=1717335854'\n",
    "new_construction_data_url = 'https://files.zillowstatic.com/research/public_csvs/new_con_sales_count_raw/Metro_new_con_sales_count_raw_uc_sfrcondo_month.csv?t=1717335854'"
   ]
  },
  {
   "cell_type": "markdown",
   "metadata": {
    "id": "TXQ-fPaU3f_s"
   },
   "source": [
    "###Data Extraction\n",
    "---"
   ]
  },
  {
   "cell_type": "code",
   "execution_count": 4,
   "metadata": {
    "id": "ne3G7htIzx1C"
   },
   "outputs": [],
   "source": [
    "import pandas as pd\n",
    "import aiohttp\n",
    "import asyncio\n",
    "\n",
    "async def fetch_data(url: str) -> pd.DataFrame:\n",
    "    logger.info(f\"Starting fetch_data from URL: {url}\")\n",
    "    try:\n",
    "        async with aiohttp.ClientSession() as session:\n",
    "            async with session.get(url) as response:\n",
    "                response.raise_for_status()\n",
    "                data = await response.text()\n",
    "                df = pd.read_csv(pd.compat.StringIO(data))\n",
    "                logger.info(\"Data fetching complete\")\n",
    "                logger.debug(f\"Data fetched: {df.head()}\")\n",
    "                return df\n",
    "    except Exception as e:\n",
    "        logger.error(\"Error during data fetching\", exc_info=True)\n",
    "        raise"
   ]
  },
  {
   "cell_type": "markdown",
   "metadata": {
    "id": "L9uuy9Tx7paA"
   },
   "source": [
    "#### DataFrames\n",
    "----"
   ]
  },
  {
   "cell_type": "code",
   "execution_count": 5,
   "metadata": {
    "id": "kMJVAuQE56ij"
   },
   "outputs": [
    {
     "ename": "RuntimeError",
     "evalue": "asyncio.run() cannot be called from a running event loop",
     "output_type": "error",
     "traceback": [
      "\u001b[0;31m---------------------------------------------------------------------------\u001b[0m",
      "\u001b[0;31mRuntimeError\u001b[0m                              Traceback (most recent call last)",
      "Cell \u001b[0;32mIn[5], line 13\u001b[0m\n\u001b[1;32m      7\u001b[0m urls \u001b[38;5;241m=\u001b[39m [\n\u001b[1;32m      8\u001b[0m     zhvi_data_url, zhvi_data_url, rental_data_url, listings_data_url,\n\u001b[1;32m      9\u001b[0m     sales_data_url, days_market_data_url, market_heat_data_url, new_construction_data_url\n\u001b[1;32m     10\u001b[0m ]\n\u001b[1;32m     12\u001b[0m \u001b[38;5;66;03m# Fetch all data\u001b[39;00m\n\u001b[0;32m---> 13\u001b[0m dataframes \u001b[38;5;241m=\u001b[39m \u001b[43masyncio\u001b[49m\u001b[38;5;241;43m.\u001b[39;49m\u001b[43mrun\u001b[49m\u001b[43m(\u001b[49m\u001b[43mfetch_all_data\u001b[49m\u001b[43m(\u001b[49m\u001b[43murls\u001b[49m\u001b[43m)\u001b[49m\u001b[43m)\u001b[49m\n",
      "File \u001b[0;32m~/Desktop/portfolio/Zillow_Housing_Predictor/env/zillow_project/lib/python3.8/asyncio/runners.py:33\u001b[0m, in \u001b[0;36mrun\u001b[0;34m(main, debug)\u001b[0m\n\u001b[1;32m      9\u001b[0m \u001b[38;5;250m\u001b[39m\u001b[38;5;124;03m\"\"\"Execute the coroutine and return the result.\u001b[39;00m\n\u001b[1;32m     10\u001b[0m \n\u001b[1;32m     11\u001b[0m \u001b[38;5;124;03mThis function runs the passed coroutine, taking care of\u001b[39;00m\n\u001b[0;32m   (...)\u001b[0m\n\u001b[1;32m     30\u001b[0m \u001b[38;5;124;03m    asyncio.run(main())\u001b[39;00m\n\u001b[1;32m     31\u001b[0m \u001b[38;5;124;03m\"\"\"\u001b[39;00m\n\u001b[1;32m     32\u001b[0m \u001b[38;5;28;01mif\u001b[39;00m events\u001b[38;5;241m.\u001b[39m_get_running_loop() \u001b[38;5;129;01mis\u001b[39;00m \u001b[38;5;129;01mnot\u001b[39;00m \u001b[38;5;28;01mNone\u001b[39;00m:\n\u001b[0;32m---> 33\u001b[0m     \u001b[38;5;28;01mraise\u001b[39;00m \u001b[38;5;167;01mRuntimeError\u001b[39;00m(\n\u001b[1;32m     34\u001b[0m         \u001b[38;5;124m\"\u001b[39m\u001b[38;5;124masyncio.run() cannot be called from a running event loop\u001b[39m\u001b[38;5;124m\"\u001b[39m)\n\u001b[1;32m     36\u001b[0m \u001b[38;5;28;01mif\u001b[39;00m \u001b[38;5;129;01mnot\u001b[39;00m coroutines\u001b[38;5;241m.\u001b[39miscoroutine(main):\n\u001b[1;32m     37\u001b[0m     \u001b[38;5;28;01mraise\u001b[39;00m \u001b[38;5;167;01mValueError\u001b[39;00m(\u001b[38;5;124m\"\u001b[39m\u001b[38;5;124ma coroutine was expected, got \u001b[39m\u001b[38;5;132;01m{!r}\u001b[39;00m\u001b[38;5;124m\"\u001b[39m\u001b[38;5;241m.\u001b[39mformat(main))\n",
      "\u001b[0;31mRuntimeError\u001b[0m: asyncio.run() cannot be called from a running event loop"
     ]
    }
   ],
   "source": [
    "async def fetch_all_data(urls: list) -> list:\n",
    "    tasks = [fetch_data(url) for url in urls]\n",
    "    return await asyncio.gather(*tasks)\n",
    "\n",
    "\n",
    "# List of URLs\n",
    "urls = [\n",
    "    zhvi_data_url, zhvi_data_url, rental_data_url, listings_data_url,\n",
    "    sales_data_url, days_market_data_url, market_heat_data_url, new_construction_data_url\n",
    "]\n",
    "\n",
    "# Fetch all data\n",
    "dataframes = asyncio.run(fetch_all_data(urls))"
   ]
  },
  {
   "cell_type": "markdown",
   "metadata": {
    "id": "Vz2JlOTx3KvH"
   },
   "source": [
    "## Transform\n",
    "---"
   ]
  },
  {
   "cell_type": "markdown",
   "metadata": {
    "id": "C91Y-DVs7y9k"
   },
   "source": [
    "#### Data Cleaning\n",
    "---"
   ]
  },
  {
   "cell_type": "markdown",
   "metadata": {
    "id": "KeAzK16075Fl"
   },
   "source": [
    "\n",
    "\n",
    "*   Drop any columns with 50 percent or more missing Data.\n",
    "*   Any columns with missing data will be imputed.\n",
    "* Convert date columns as their own seperate columns as 'Date', convert as datetime object data type\n",
    "* Convert any unecessary float values to int32.\n",
    "\n"
   ]
  },
  {
   "cell_type": "markdown",
   "metadata": {
    "id": "ABkqC79A9YaV"
   },
   "source": [
    "##### Dropping incomplete data with 50 percent or more empty data\n",
    "----"
   ]
  },
  {
   "cell_type": "code",
   "execution_count": null,
   "metadata": {
    "id": "Sf0myEuc8VWl"
   },
   "outputs": [],
   "source": [
    "\n",
    "import pandas as pd\n",
    "\n",
    "def purge_data(df: pd.DataFrame) -> pd.DataFrame:\n",
    "    purge_columns = [ c for c in df.columns if df[c].isna().mean()*100 > 50]\n",
    "    purged_df = df\n",
    "\n",
    "    for c in purge_columns:\n",
    "      purged_df = df.drop(c, axis=1)\n",
    "    return purged_df\n"
   ]
  },
  {
   "cell_type": "code",
   "execution_count": null,
   "metadata": {
    "id": "mh5Mw63uCA-7"
   },
   "outputs": [],
   "source": [
    "purged_zhvi_dataframe = purge_data(zhvi_dataframe)\n",
    "purged_zhvf_dataframe = purge_data(zhvf_dataframe)\n",
    "purged_rental_dataframe = purge_data(rental_dataframe)\n",
    "purged_sales_dataframe = purge_data(sales_dataframe)\n",
    "purged_days_market_dataframe = purge_data(days_market_dataframe)\n"
   ]
  },
  {
   "cell_type": "markdown",
   "metadata": {
    "id": "s1TjZKCYC7aF"
   },
   "source": [
    "#### Filling Missing Data\n",
    "---"
   ]
  },
  {
   "cell_type": "code",
   "execution_count": null,
   "metadata": {
    "id": "OOfFmFLn6M4r"
   },
   "outputs": [],
   "source": [
    "import numpy as np\n",
    "from sklearn.impute import SimpleImputer\n",
    "\n",
    "def impute_numerical_data(df: pd.DataFrame, strategy: str) -> pd.DataFrame:\n",
    "    logger.info(f\"Starting impute_numerical_data with strategy: {strategy}\")\n",
    "    try:\n",
    "        # Separate numerical and categorical columns\n",
    "        numerical_data = df.select_dtypes(include=np.number)\n",
    "        categorical_data = df.select_dtypes(exclude=np.number)\n",
    "\n",
    "        logger.debug(f\"Numerical columns: {numerical_data.columns.tolist()}\")\n",
    "        logger.debug(f\"Categorical columns: {categorical_data.columns.tolist()}\")\n",
    "\n",
    "        # Initialize SimpleImputer with the given strategy\n",
    "        imputer = SimpleImputer(missing_values=np.nan, strategy=strategy)\n",
    "\n",
    "        # Fit and transform the numerical data\n",
    "        imputed_numerical_data = imputer.fit_transform(numerical_data)\n",
    "\n",
    "        # Convert the numpy array back to a DataFrame\n",
    "        imputed_numerical_df = pd.DataFrame(imputed_numerical_data, columns=numerical_data.columns)\n",
    "\n",
    "        # Concatenate the categorical data and the imputed numerical data\n",
    "        imputed_df = pd.concat([categorical_data.reset_index(drop=True), imputed_numerical_df], axis=1)\n",
    "\n",
    "        logger.info(\"Numerical Imputation complete\")\n",
    "        return imputed_df\n",
    "\n",
    "    except Exception as e:\n",
    "        logger.error(\"Error during imputation\", exc_info=True)\n",
    "        raise\n"
   ]
  },
  {
   "cell_type": "code",
   "execution_count": null,
   "metadata": {
    "id": "Dy3MeXaiC_Qd"
   },
   "outputs": [],
   "source": [
    "def impute_categorical_data(df: pd.DataFrame, strategy: str) -> pd.DataFrame:\n",
    "    try:\n",
    "        logger.info(f\"Starting impute_categorical_data with strategy: {strategy}\")\n",
    "\n",
    "        # Separate numerical and categorical columns\n",
    "        numerical_data = df.select_dtypes(include=np.number)\n",
    "        categorical_data = df.select_dtypes(exclude=np.number)\n",
    "\n",
    "        logger.debug(f\"Numerical columns: {numerical_data.columns.tolist()}\")\n",
    "        logger.debug(f\"Categorical columns: {categorical_data.columns.tolist()}\")\n",
    "\n",
    "        # Initialize SimpleImputer with the given strategy\n",
    "        simp = SimpleImputer(strategy=strategy)\n",
    "\n",
    "        # Fit and transform the categorical data\n",
    "        imp_cat_data = simp.fit_transform(categorical_data)\n",
    "\n",
    "        # Convert the numpy array back to a DataFrame\n",
    "        imp_cat_data_df = pd.DataFrame(imp_cat_data, columns=categorical_data.columns)\n",
    "\n",
    "        # Concatenate the imputed categorical data and the numerical data\n",
    "        new_df = pd.concat([imp_cat_data_df, numerical_data], axis=1)\n",
    "\n",
    "        logger.info(\"Categorical Imputation Complete\")\n",
    "        return new_df\n",
    "\n",
    "    except Exception as e:\n",
    "        logger.error(\"Error during imputation\", exc_info=True)\n",
    "        raise"
   ]
  },
  {
   "cell_type": "code",
   "execution_count": null,
   "metadata": {
    "id": "zQBMYhkd5LlP"
   },
   "outputs": [],
   "source": [
    "def preprocess_data(df: pd.DataFrame, cat_strat : str, num_strat: str) -> pd.DataFrame:\n",
    "  purged_df = purge_data(df)\n",
    "  num_imp_purged_df = impute_numerical_data(purged_df, num_strat)\n",
    "  cat_imputed_df = impute_categorical_data(num_imp_purged_df, cat_strat)\n",
    "  return cat_imputed_df\n"
   ]
  },
  {
   "cell_type": "code",
   "execution_count": null,
   "metadata": {
    "id": "XAOe4jV74eHs"
   },
   "outputs": [],
   "source": [
    "preprocessed_zhvi_dataframe = preprocess_data(zhvi_dataframe, 'most_frequent', 'median')\n",
    "preprocessed_zhvf_dataframe = preprocess_data(zhvf_dataframe, 'most_frequent', 'median')\n",
    "preprocessed_rental_dataframe = preprocess_data(rental_dataframe, 'most_frequent', 'median')\n",
    "preprocessed_listings_dataframe = preprocess_data(listings_dataframe, 'most_frequent', 'median')\n",
    "preprocessed_sales_dataframe = preprocess_data(sales_dataframe, 'most_frequent','median')\n",
    "preprocessed_days_dataframe = preprocess_data(days_market_dataframe,'most_frequent','median')\n",
    "preprocessed_market_heat_dataframe = preprocess_data(market_heat_dataframe,'most_frequent','median')\n",
    "preprocessed_new_construction_dataframe = preprocess_data(new_construction_dataframe,'most_frequent','median')"
   ]
  },
  {
   "cell_type": "code",
   "execution_count": null,
   "metadata": {
    "id": "jJu_CYXoypsO"
   },
   "outputs": [],
   "source": [
    "preprocessed_zhvi_dataframe = preprocess_data(zhvi_dataframe, 'most_frequent', 'median')\n",
    "preprocessed_zhvf_dataframe = preprocess_data(zhvf_dataframe, 'most_frequent', 'median')\n",
    "preprocessed_rental_dataframe = preprocess_data(rental_dataframe, 'most_frequent', 'median')\n",
    "preprocessed_listings_dataframe = preprocess_data(listings_dataframe, 'most_frequent', 'median')\n",
    "preprocessed_sales_dataframe = preprocess_data(sales_dataframe, 'most_frequent','median')\n",
    "preprocessed_days_dataframe = preprocess_data(days_market_dataframe,'most_frequent','median')\n",
    "preprocessed_market_heat_dataframe = preprocess_data(market_heat_dataframe,'most_frequent','median')\n",
    "preprocessed_new_construction_dataframe = preprocess_data(new_construction_dataframe,'most_frequent','median')"
   ]
  },
  {
   "cell_type": "markdown",
   "metadata": {
    "id": "FoYtsgo4mH3F"
   },
   "source": [
    "#### Transforming date columns\n",
    "---"
   ]
  },
  {
   "cell_type": "code",
   "execution_count": null,
   "metadata": {
    "id": "39-sFEi7RBav"
   },
   "outputs": [],
   "source": [
    "def melt_dates(df: pd.DataFrame, valName: str) -> pd.DataFrame:\n",
    "\n",
    "    id_columns = [c for c in df.columns if '-' not in c]\n",
    "    date_columns = [c for c in df.columns if '-' in c]\n",
    "    df = pd.melt(frame=df, id_vars=id_columns, var_name='date', value_name=valName, ignore_index=True)\n",
    "    #date type conversion\n",
    "    df['date'] = pd.to_datetime(df['date'])\n",
    "    return df\n"
   ]
  },
  {
   "cell_type": "markdown",
   "metadata": {
    "id": "slsaAT6ImgQ1"
   },
   "source": [
    "#### Currency formatting\n",
    "---"
   ]
  },
  {
   "cell_type": "code",
   "execution_count": null,
   "metadata": {
    "id": "hOp5hrixi2Do"
   },
   "outputs": [],
   "source": [
    "def format_currency(x):\n",
    "    return \"${:,.2f}\".format(x)"
   ]
  },
  {
   "cell_type": "code",
   "execution_count": null,
   "metadata": {
    "id": "n3NqgehKeprZ"
   },
   "outputs": [],
   "source": [
    "tr_rental_df = melt_dates(preprocessed_rental_dataframe, 'rent')"
   ]
  },
  {
   "cell_type": "code",
   "execution_count": null,
   "metadata": {
    "id": "ZGuSJ40Fi5WP"
   },
   "outputs": [],
   "source": [
    "tr_rental_df['rent'] = tr_rental_df['rent'].astype('float')"
   ]
  },
  {
   "cell_type": "code",
   "execution_count": null,
   "metadata": {},
   "outputs": [],
   "source": []
  },
  {
   "cell_type": "code",
   "execution_count": null,
   "metadata": {
    "id": "8yxFM4VdlDYd"
   },
   "outputs": [],
   "source": [
    "preprocessed_zhvi_dataframe = preprocess_data(zhvi_dataframe,'most_frequent','median')"
   ]
  },
  {
   "cell_type": "code",
   "execution_count": null,
   "metadata": {
    "id": "58M5bmronkn2"
   },
   "outputs": [],
   "source": [
    "tr_zhvi_df = melt_dates(preprocessed_zhvi_dataframe, 'ZHVI')"
   ]
  },
  {
   "cell_type": "code",
   "execution_count": null,
   "metadata": {
    "id": "SJihUWfooU_K"
   },
   "outputs": [],
   "source": [
    "tr_zhvi_df['ZHVI'] = tr_zhvi_df['ZHVI'].apply(format_currency)"
   ]
  },
  {
   "cell_type": "code",
   "execution_count": null,
   "metadata": {
    "id": "hJCxNzBbooJb"
   },
   "outputs": [],
   "source": [
    "tr_zhvf_df = melt_dates(preprocessed_zhvf_dataframe, 'ZHVF')"
   ]
  },
  {
   "cell_type": "code",
   "execution_count": null,
   "metadata": {
    "id": "USChZ-DWjphv"
   },
   "outputs": [],
   "source": [
    "tr_listings_df = melt_dates(preprocessed_listings_dataframe,'Listings')"
   ]
  },
  {
   "cell_type": "code",
   "execution_count": null,
   "metadata": {
    "id": "x6s7Xa2klp4k"
   },
   "outputs": [],
   "source": [
    "tr_sales_df = melt_dates(preprocessed_sales_dataframe, 'Sales')"
   ]
  },
  {
   "cell_type": "code",
   "execution_count": null,
   "metadata": {
    "colab": {
     "base_uri": "https://localhost:8080/",
     "height": 206
    },
    "id": "cmF69R2My8Wn",
    "outputId": "125f97fe-2856-4021-b7ec-8a4e118d2aeb"
   },
   "outputs": [],
   "source": [
    "tr_sales_df.head()"
   ]
  },
  {
   "cell_type": "code",
   "execution_count": null,
   "metadata": {
    "id": "G71o8KWalqJ9"
   },
   "outputs": [],
   "source": [
    "tr_days_market_df = melt_dates(preprocessed_days_dataframe,'Days')"
   ]
  },
  {
   "cell_type": "code",
   "execution_count": null,
   "metadata": {
    "id": "lfItpw81lqha"
   },
   "outputs": [],
   "source": [
    "tr_market_heat_df = melt_dates(preprocessed_market_heat_dataframe, 'Market Heat')"
   ]
  },
  {
   "cell_type": "code",
   "execution_count": null,
   "metadata": {
    "colab": {
     "base_uri": "https://localhost:8080/",
     "height": 206
    },
    "id": "POvmDPuwyNtU",
    "outputId": "300b0bf7-8ab1-432d-b3ac-494cdebbd7cf"
   },
   "outputs": [],
   "source": [
    "tr_market_heat_df.head()"
   ]
  },
  {
   "cell_type": "code",
   "execution_count": null,
   "metadata": {
    "id": "Uj8xFUFclq1T"
   },
   "outputs": [],
   "source": [
    "tr_new_construction_df = melt_dates(preprocessed_new_construction_dataframe,'New Construction')"
   ]
  },
  {
   "cell_type": "code",
   "execution_count": null,
   "metadata": {
    "colab": {
     "base_uri": "https://localhost:8080/",
     "height": 206
    },
    "id": "o0Wpu0lKlrM7",
    "outputId": "4e80d927-ceb1-46f9-9c9e-69d4aad54458"
   },
   "outputs": [],
   "source": [
    "tr_new_construction_df.head()"
   ]
  },
  {
   "cell_type": "markdown",
   "metadata": {
    "id": "2hMVWGJfvAXj"
   },
   "source": [
    "#### Feature Engineering\n",
    "---\n",
    "* Season\n",
    "* Political Leaning\n"
   ]
  },
  {
   "cell_type": "markdown",
   "metadata": {
    "id": "81duXCpQx6UR"
   },
   "source": [
    "#### Seasons\n",
    "---"
   ]
  },
  {
   "cell_type": "code",
   "execution_count": null,
   "metadata": {
    "id": "lo3iF9lTvHxX"
   },
   "outputs": [],
   "source": [
    "def map_season(df: pd.DataFrame) -> pd.DataFrame:\n",
    "  month_to_season = {\n",
    "    12: 'Winter', 1: 'Winter', 2: 'Winter',\n",
    "    3: 'Spring', 4: 'Spring', 5: 'Spring',\n",
    "    6: 'Summer', 7: 'Summer', 8: 'Summer',\n",
    "    9: 'Fall', 10: 'Fall', 11: 'Fall'\n",
    "  }\n",
    "  df['Season'] = df['date'].dt.month.map(month_to_season)\n",
    "  return df"
   ]
  },
  {
   "cell_type": "code",
   "execution_count": null,
   "metadata": {
    "id": "LDjmBsNq0cb9"
   },
   "outputs": [],
   "source": [
    "#rental data\n",
    "tr_rental_df = map_season(tr_rental_df)\n",
    "#ZHVI\n",
    "tr_zhvi_df = map_season(tr_zhvi_df)\n",
    "#ZHVF\n",
    "tr_zhvf_df = map_season(tr_zhvf_df)\n",
    "#Listings\n",
    "tr_listings_df = map_season(tr_listings_df)\n",
    "#Sales\n",
    "tr_sales_df = map_season(tr_sales_df)\n",
    "#DaysMarket\n",
    "tr_days_market_df = map_season(tr_days_market_df)"
   ]
  },
  {
   "cell_type": "code",
   "execution_count": null,
   "metadata": {
    "colab": {
     "base_uri": "https://localhost:8080/",
     "height": 206
    },
    "id": "uMjWO6SeMRzU",
    "outputId": "0983bca4-515f-4ad5-893d-f083440e5c75"
   },
   "outputs": [],
   "source": [
    "tr_rental_df.head()"
   ]
  },
  {
   "cell_type": "code",
   "execution_count": null,
   "metadata": {
    "id": "ELxRGSF_MV3y"
   },
   "outputs": [],
   "source": [
    "tr_rental_df['RegionID'] = tr_rental_df['RegionID'].astype('int32')\n",
    "tr_rental_df['SizeRank'] = tr_rental_df['SizeRank'].astype('int32')"
   ]
  },
  {
   "cell_type": "code",
   "execution_count": null,
   "metadata": {
    "colab": {
     "base_uri": "https://localhost:8080/",
     "height": 206
    },
    "id": "618OBbuvM69h",
    "outputId": "f8311cd1-10cc-4fd3-fb34-00611e142c98"
   },
   "outputs": [],
   "source": [
    "tr_rental_df.head()"
   ]
  },
  {
   "cell_type": "code",
   "execution_count": null,
   "metadata": {
    "colab": {
     "base_uri": "https://localhost:8080/",
     "height": 206
    },
    "id": "z6cdOGKm001E",
    "outputId": "8968a436-3416-4f75-b0eb-9e37adcf3c71"
   },
   "outputs": [],
   "source": [
    "tr_days_market_df.head()"
   ]
  },
  {
   "cell_type": "code",
   "execution_count": null,
   "metadata": {
    "colab": {
     "base_uri": "https://localhost:8080/",
     "height": 206
    },
    "id": "cngAkkRQNLCh",
    "outputId": "85d55019-7bf5-4c2e-e04f-4ceeff3c26e6"
   },
   "outputs": [],
   "source": [
    "tr_zhvi_df.head()"
   ]
  },
  {
   "cell_type": "code",
   "execution_count": null,
   "metadata": {
    "id": "a8SmCEJrNY3e"
   },
   "outputs": [],
   "source": [
    "tr_zhvi_df['RegionID'] = tr_zhvi_df['RegionID'].astype('int32')\n",
    "tr_zhvi_df['SizeRank'] = tr_zhvi_df['SizeRank'].astype('int32')"
   ]
  },
  {
   "cell_type": "code",
   "execution_count": null,
   "metadata": {
    "colab": {
     "base_uri": "https://localhost:8080/",
     "height": 206
    },
    "id": "gjhObWaANp7a",
    "outputId": "6d1510d0-feca-41cc-9bac-dab0935b4d82"
   },
   "outputs": [],
   "source": [
    "tr_zhvi_df.head()"
   ]
  },
  {
   "cell_type": "code",
   "execution_count": null,
   "metadata": {
    "colab": {
     "base_uri": "https://localhost:8080/",
     "height": 206
    },
    "id": "4j75BpM6qXXM",
    "outputId": "c6427163-cc2f-4df7-c070-af014c45709d"
   },
   "outputs": [],
   "source": [
    "tr_listings_df.head()"
   ]
  },
  {
   "cell_type": "code",
   "execution_count": null,
   "metadata": {
    "id": "pr0_MXiWkugC"
   },
   "outputs": [],
   "source": [
    "tr_listings_df['Listings'] = tr_listings_df['Listings'].astype('int32')\n",
    "tr_listings_df['RegionID'] = tr_listings_df['RegionID'].astype('int32')\n",
    "tr_listings_df['SizeRank'] = tr_listings_df['SizeRank'].astype('int32')"
   ]
  },
  {
   "cell_type": "code",
   "execution_count": null,
   "metadata": {
    "colab": {
     "base_uri": "https://localhost:8080/",
     "height": 206
    },
    "id": "prMRi6ToOH0J",
    "outputId": "7a87eb21-c77b-4e1f-cf92-36c1ca15a59c"
   },
   "outputs": [],
   "source": [
    "tr_listings_df.head()"
   ]
  },
  {
   "cell_type": "code",
   "execution_count": null,
   "metadata": {
    "colab": {
     "base_uri": "https://localhost:8080/",
     "height": 206
    },
    "id": "2SZe1WmeObVD",
    "outputId": "37ddfc53-62f9-4c6b-ad2b-b042c76fdcfa"
   },
   "outputs": [],
   "source": [
    "tr_sales_df.head()"
   ]
  },
  {
   "cell_type": "code",
   "execution_count": null,
   "metadata": {
    "colab": {
     "base_uri": "https://localhost:8080/",
     "height": 206
    },
    "id": "o7hHfis_OltD",
    "outputId": "05c6cf91-0c66-4db7-8865-620947850568"
   },
   "outputs": [],
   "source": [
    "tr_days_market_df.head()"
   ]
  },
  {
   "cell_type": "code",
   "execution_count": null,
   "metadata": {
    "id": "7_NHYXxbOrzB"
   },
   "outputs": [],
   "source": [
    "tr_days_market_df['RegionID'] = tr_days_market_df['RegionID'].astype('int32')\n",
    "tr_days_market_df['SizeRank'] = tr_days_market_df['SizeRank'].astype('int32')\n",
    "tr_days_market_df['Days'] = tr_days_market_df['Days'].astype('int32')"
   ]
  },
  {
   "cell_type": "code",
   "execution_count": null,
   "metadata": {
    "colab": {
     "base_uri": "https://localhost:8080/",
     "height": 206
    },
    "id": "u0pURZ15PI_G",
    "outputId": "566116b3-d2a3-419b-a828-41ff2e199f05"
   },
   "outputs": [],
   "source": [
    "tr_days_market_df.head()"
   ]
  },
  {
   "cell_type": "markdown",
   "metadata": {
    "id": "wEMG9o4ryAsh"
   },
   "source": [
    "#### Political Leaning\n",
    "---"
   ]
  },
  {
   "cell_type": "code",
   "execution_count": null,
   "metadata": {
    "id": "JtyQDq4Yv7gB"
   },
   "outputs": [],
   "source": [
    "def map_political_leaning(df: pd.DataFrame) -> pd.DataFrame:\n",
    "  state_political_leaning = {\n",
    "    'AL': 'Red',\n",
    "    'AK': 'Red',\n",
    "    'AZ': 'Red',  # Note: Arizona has been a battleground state, but leaned Republican historically.\n",
    "    'AR': 'Red',\n",
    "    'CA': 'Blue',\n",
    "    'CO': 'Blue',  # Note: Colorado has been trending blue in recent elections.\n",
    "    'CT': 'Blue',\n",
    "    'DE': 'Blue',\n",
    "    'FL': 'Red',  # Note: Florida is a swing state but leaned Republican recently.\n",
    "    'GA': 'Red',  # Note: Georgia has been a battleground state, leaning Democratic in 2020.\n",
    "    'HI': 'Blue',\n",
    "    'ID': 'Red',\n",
    "    'IL': 'Blue',\n",
    "    'IN': 'Red',\n",
    "    'IA': 'Red',  # Note: Iowa has swung between parties but leaned Republican recently.\n",
    "    'KS': 'Red',\n",
    "    'KY': 'Red',\n",
    "    'LA': 'Red',\n",
    "    'ME': 'Blue',  # Note: Maine can split its electoral votes, with one district leaning Republican.\n",
    "    'MD': 'Blue',\n",
    "    'MA': 'Blue',\n",
    "    'MI': 'Blue',  # Note: Michigan is a battleground state, leaning Democratic in recent elections.\n",
    "    'MN': 'Blue',\n",
    "    'MS': 'Red',\n",
    "    'MO': 'Red',\n",
    "    'MT': 'Red',\n",
    "    'NE': 'Red',  # Note: Nebraska can split its electoral votes, with one district leaning Democratic.\n",
    "    'NV': 'Blue',  # Note: Nevada has been leaning Democratic recently.\n",
    "    'NH': 'Blue',\n",
    "    'NJ': 'Blue',\n",
    "    'NM': 'Blue',\n",
    "    'NY': 'Blue',\n",
    "    'NC': 'Red',  # Note: North Carolina is a battleground state.\n",
    "    'ND': 'Red',\n",
    "    'OH': 'Red',  # Note: Ohio has swung between parties but leaned Republican recently.\n",
    "    'OK': 'Red',\n",
    "    'OR': 'Blue',\n",
    "    'PA': 'Blue',  # Note: Pennsylvania is a battleground state, leaning Democratic in recent elections.\n",
    "    'RI': 'Blue',\n",
    "    'SC': 'Red',\n",
    "    'SD': 'Red',\n",
    "    'TN': 'Red',\n",
    "    'TX': 'Red',  # Note: Texas has been a solidly Republican state but is becoming more competitive.\n",
    "    'UT': 'Red',\n",
    "    'VT': 'Blue',\n",
    "    'VA': 'Blue',  # Note: Virginia has been trending blue in recent elections.\n",
    "    'WA': 'Blue',\n",
    "    'WV': 'Red',\n",
    "    'WI': 'Blue',  # Note: Wisconsin is a battleground state, leaning Democratic in recent elections.\n",
    "    'WY': 'Red'\n",
    "  }\n",
    "\n",
    "  df['Political Leaning'] = df['StateName'].map(state_political_leaning)\n",
    "  return df"
   ]
  },
  {
   "cell_type": "code",
   "execution_count": null,
   "metadata": {
    "id": "PGQ48kc_1AeL"
   },
   "outputs": [],
   "source": [
    "#ZHVI Data\n",
    "tr_zhvi_df = map_political_leaning(tr_zhvi_df)\n",
    "#ZHVF Data\n",
    "tr_zhvf_df = map_political_leaning(tr_zhvf_df)\n",
    "#Rental Data\n",
    "tr_rental_df = map_political_leaning(tr_rental_df)\n",
    "#Listings Data\n",
    "tr_listings_df = map_political_leaning(tr_listings_df)"
   ]
  },
  {
   "cell_type": "markdown",
   "metadata": {
    "id": "4rrbiNDJ27PH"
   },
   "source": [
    "## Loading Data\n",
    "---"
   ]
  },
  {
   "cell_type": "markdown",
   "metadata": {
    "id": "RS2ql0w-3E1Z"
   },
   "source": [
    "#### Load data to sqlite db\n",
    "---"
   ]
  },
  {
   "cell_type": "code",
   "execution_count": null,
   "metadata": {
    "id": "IVzJ9CwO2EUR"
   },
   "outputs": [],
   "source": [
    "import sqlite3\n",
    "conn = sqlite3.connect('../data/Zillow/zillow.db')"
   ]
  },
  {
   "cell_type": "code",
   "execution_count": null,
   "metadata": {
    "id": "9PY-mzl73NNQ"
   },
   "outputs": [],
   "source": [
    "#rental data\n",
    "tr_rental_df.to_sql('rent', conn,if_exists='replace')\n",
    "#ZHVF\n",
    "tr_zhvf_df.to_sql('zhvf', conn, if_exists='replace')\n",
    "#ZHVI\n",
    "tr_zhvi_df.to_sql('zhvi', conn, if_exists='replace')\n",
    "#Listings\n",
    "tr_listings_df.to_sql('listings', conn, if_exists='replace')\n",
    "#Sales\n",
    "tr_sales_df.to_sql('sales', conn, if_exists='replace')\n",
    "#DaysMarket\n",
    "tr_days_market_df.to_sql('days_market', conn, if_exists='replace')\n",
    "conn.commit()\n",
    "conn.close()"
   ]
  },
  {
   "cell_type": "code",
   "execution_count": null,
   "metadata": {
    "id": "0MJb4AWlEvcu"
   },
   "outputs": [],
   "source": []
  }
 ],
 "metadata": {
  "colab": {
   "provenance": []
  },
  "kernelspec": {
   "display_name": "Python 3 (ipykernel)",
   "language": "python",
   "name": "python3"
  },
  "language_info": {
   "codemirror_mode": {
    "name": "ipython",
    "version": 3
   },
   "file_extension": ".py",
   "mimetype": "text/x-python",
   "name": "python",
   "nbconvert_exporter": "python",
   "pygments_lexer": "ipython3",
   "version": "3.8.19"
  }
 },
 "nbformat": 4,
 "nbformat_minor": 4
}
