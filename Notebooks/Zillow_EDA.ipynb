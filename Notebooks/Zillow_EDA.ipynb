{
 "cells": [
  {
   "cell_type": "markdown",
   "id": "d4614836-28d3-4da4-a441-ef195c17da0a",
   "metadata": {},
   "source": [
    "# Zillow EDA\n",
    "---"
   ]
  },
  {
   "cell_type": "markdown",
   "id": "4c93de21-8392-4bfb-8339-e9902edc0a42",
   "metadata": {},
   "source": [
    "## Load Prprocessed Data\n",
    "---"
   ]
  },
  {
   "cell_type": "code",
   "execution_count": null,
   "id": "95e3a9d4-405b-41e6-b079-c6d3c9107b43",
   "metadata": {},
   "outputs": [],
   "source": [
    "import sqlite3 as sql\n",
    "\n",
    "zillow_preprocessed_data_db = '../data/Zillow/zillow.db'\n",
    "\n",
    "zillow_conn = sql.connect(zillow_preprocessed_data_db)"
   ]
  },
  {
   "cell_type": "code",
   "execution_count": null,
   "id": "17e1bfea",
   "metadata": {},
   "outputs": [],
   "source": [
    "import logging\n",
    "\n",
    "# Create a logger\n",
    "logger = logging.getLogger('zillow_eda')\n",
    "logger.setLevel(logging.DEBUG)\n",
    "\n",
    "# Create file handler which logs even debug messages\n",
    "fh = logging.FileHandler('eda.log')\n",
    "fh.setLevel(logging.DEBUG)\n",
    "\n",
    "# Create console handler with a higher log level\n",
    "ch = logging.StreamHandler()\n",
    "ch.setLevel(logging.ERROR)\n",
    "\n",
    "# Create formatter and add it to the handlers\n",
    "formatter = logging.Formatter('%(asctime)s - %(name)s - %(levelname)s - %(message)s')\n",
    "fh.setFormatter(formatter)\n",
    "ch.setFormatter(formatter)\n",
    "\n",
    "# Add the handlers to the logger\n",
    "logger.addHandler(fh)\n",
    "logger.addHandler(ch)\n",
    "\n",
    "logger.info('Logger for Zillow EDA initialized')\n"
   ]
  },
  {
   "cell_type": "markdown",
   "id": "0edd587d-cea4-495f-9973-b4e8cca53d2f",
   "metadata": {},
   "source": [
    "# California Data\n",
    "---"
   ]
  },
  {
   "cell_type": "code",
   "execution_count": null,
   "id": "84ade67e-49d2-473e-b16b-32a4d85f7e21",
   "metadata": {},
   "outputs": [],
   "source": [
    "import pandas as pd\n",
    "zillow_ca_rental_df = pd.read_sql_query(\"SELECT * FROM rent WHERE StateName = 'CA'\", zillow_conn, index_col=None)\n",
    "logger.info('California Rental Data loaded')"
   ]
  },
  {
   "cell_type": "code",
   "execution_count": null,
   "id": "4a6a22f8-e6e8-4668-96bd-6299ef047084",
   "metadata": {},
   "outputs": [],
   "source": [
    "import pygwalker as pyg"
   ]
  },
  {
   "cell_type": "markdown",
   "id": "e231b3cd-3d2c-40df-a419-2757b9a950bd",
   "metadata": {},
   "source": [
    "## Rental Data for SD,LA, and SF\n",
    "---"
   ]
  },
  {
   "cell_type": "code",
   "execution_count": null,
   "id": "9665e7a4-fb44-4e37-a0f0-6f7a05db8f0b",
   "metadata": {},
   "outputs": [],
   "source": [
    "zillow_ca_rental_df.head()"
   ]
  },
  {
   "cell_type": "code",
   "execution_count": null,
   "id": "65b09f28-e8bd-48df-9cd3-aaaee8ec4a0a",
   "metadata": {},
   "outputs": [],
   "source": [
    "vis_spec = r\"\"\"{\"config\":[{\"config\":{\"defaultAggregated\":true,\"geoms\":[\"auto\"],\"coordSystem\":\"generic\",\"limit\":-1,\"timezoneDisplayOffset\":0},\"encodings\":{\"dimensions\":[{\"fid\":\"RegionName\",\"name\":\"RegionName\",\"basename\":\"RegionName\",\"semanticType\":\"nominal\",\"analyticType\":\"dimension\",\"offset\":0},{\"fid\":\"RegionType\",\"name\":\"RegionType\",\"basename\":\"RegionType\",\"semanticType\":\"nominal\",\"analyticType\":\"dimension\",\"offset\":0},{\"fid\":\"StateName\",\"name\":\"StateName\",\"basename\":\"StateName\",\"semanticType\":\"nominal\",\"analyticType\":\"dimension\",\"offset\":0},{\"fid\":\"date\",\"name\":\"date\",\"basename\":\"date\",\"semanticType\":\"nominal\",\"analyticType\":\"dimension\",\"offset\":0},{\"fid\":\"Season\",\"name\":\"Season\",\"basename\":\"Season\",\"semanticType\":\"nominal\",\"analyticType\":\"dimension\",\"offset\":0},{\"fid\":\"Political Leaning\",\"name\":\"Political Leaning\",\"basename\":\"Political Leaning\",\"semanticType\":\"nominal\",\"analyticType\":\"dimension\",\"offset\":0},{\"fid\":\"gw_mea_key_fid\",\"name\":\"Measure names\",\"analyticType\":\"dimension\",\"semanticType\":\"nominal\"}],\"measures\":[{\"fid\":\"index\",\"name\":\"index\",\"basename\":\"index\",\"analyticType\":\"measure\",\"semanticType\":\"quantitative\",\"aggName\":\"sum\",\"offset\":0},{\"fid\":\"RegionID\",\"name\":\"RegionID\",\"basename\":\"RegionID\",\"analyticType\":\"measure\",\"semanticType\":\"quantitative\",\"aggName\":\"sum\",\"offset\":0},{\"fid\":\"SizeRank\",\"name\":\"SizeRank\",\"basename\":\"SizeRank\",\"analyticType\":\"measure\",\"semanticType\":\"quantitative\",\"aggName\":\"sum\",\"offset\":0},{\"fid\":\"rent\",\"name\":\"rent (USD)\",\"basename\":\"rent\",\"analyticType\":\"measure\",\"semanticType\":\"quantitative\",\"aggName\":\"sum\",\"offset\":0},{\"fid\":\"gw_count_fid\",\"name\":\"Row count\",\"analyticType\":\"measure\",\"semanticType\":\"quantitative\",\"aggName\":\"sum\",\"computed\":true,\"expression\":{\"op\":\"one\",\"params\":[],\"as\":\"gw_count_fid\"}},{\"fid\":\"gw_mea_val_fid\",\"name\":\"Measure values\",\"analyticType\":\"measure\",\"semanticType\":\"quantitative\",\"aggName\":\"sum\"}],\"rows\":[{\"fid\":\"rent\",\"name\":\"rent (USD)\",\"basename\":\"rent\",\"analyticType\":\"measure\",\"semanticType\":\"quantitative\",\"aggName\":\"median\",\"offset\":0}],\"columns\":[{\"fid\":\"date\",\"name\":\"date\",\"basename\":\"date\",\"semanticType\":\"nominal\",\"analyticType\":\"dimension\",\"offset\":0}],\"color\":[{\"fid\":\"Season\",\"name\":\"Season\",\"basename\":\"Season\",\"semanticType\":\"nominal\",\"analyticType\":\"dimension\",\"offset\":0}],\"opacity\":[],\"size\":[],\"shape\":[],\"radius\":[],\"theta\":[],\"longitude\":[],\"latitude\":[],\"geoId\":[],\"details\":[],\"filters\":[{\"fid\":\"RegionName\",\"name\":\"RegionName\",\"basename\":\"RegionName\",\"semanticType\":\"nominal\",\"analyticType\":\"dimension\",\"offset\":0,\"rule\":{\"type\":\"one of\",\"value\":[\"Los Angeles, CA\"]}}],\"text\":[]},\"layout\":{\"showActions\":false,\"showTableSummary\":false,\"stack\":\"stack\",\"interactiveScale\":false,\"zeroScale\":true,\"size\":{\"mode\":\"full\",\"width\":320,\"height\":200},\"format\":{},\"geoKey\":\"name\",\"resolve\":{\"x\":false,\"y\":false,\"color\":false,\"opacity\":false,\"shape\":false,\"size\":false}},\"visId\":\"gw_dYXm\",\"name\":\"Los Angeles Rental Fluctuations\"},{\"config\":{\"defaultAggregated\":true,\"geoms\":[\"auto\"],\"coordSystem\":\"generic\",\"limit\":-1,\"timezoneDisplayOffset\":0},\"encodings\":{\"dimensions\":[{\"fid\":\"RegionName\",\"name\":\"RegionName\",\"basename\":\"RegionName\",\"semanticType\":\"nominal\",\"analyticType\":\"dimension\",\"offset\":0},{\"fid\":\"RegionType\",\"name\":\"RegionType\",\"basename\":\"RegionType\",\"semanticType\":\"nominal\",\"analyticType\":\"dimension\",\"offset\":0},{\"fid\":\"StateName\",\"name\":\"StateName\",\"basename\":\"StateName\",\"semanticType\":\"nominal\",\"analyticType\":\"dimension\",\"offset\":0},{\"fid\":\"date\",\"name\":\"date\",\"basename\":\"date\",\"semanticType\":\"nominal\",\"analyticType\":\"dimension\",\"offset\":0},{\"fid\":\"Season\",\"name\":\"Season\",\"basename\":\"Season\",\"semanticType\":\"nominal\",\"analyticType\":\"dimension\",\"offset\":0},{\"fid\":\"Political Leaning\",\"name\":\"Political Leaning\",\"basename\":\"Political Leaning\",\"semanticType\":\"nominal\",\"analyticType\":\"dimension\",\"offset\":0},{\"fid\":\"gw_mea_key_fid\",\"name\":\"Measure names\",\"analyticType\":\"dimension\",\"semanticType\":\"nominal\"}],\"measures\":[{\"fid\":\"index\",\"name\":\"index\",\"basename\":\"index\",\"analyticType\":\"measure\",\"semanticType\":\"quantitative\",\"aggName\":\"sum\",\"offset\":0},{\"fid\":\"RegionID\",\"name\":\"RegionID\",\"basename\":\"RegionID\",\"analyticType\":\"measure\",\"semanticType\":\"quantitative\",\"aggName\":\"sum\",\"offset\":0},{\"fid\":\"SizeRank\",\"name\":\"SizeRank\",\"basename\":\"SizeRank\",\"analyticType\":\"measure\",\"semanticType\":\"quantitative\",\"aggName\":\"sum\",\"offset\":0},{\"fid\":\"rent\",\"name\":\"rent (USD)\",\"basename\":\"rent\",\"analyticType\":\"measure\",\"semanticType\":\"quantitative\",\"aggName\":\"sum\",\"offset\":0},{\"fid\":\"gw_count_fid\",\"name\":\"Row count\",\"analyticType\":\"measure\",\"semanticType\":\"quantitative\",\"aggName\":\"sum\",\"computed\":true,\"expression\":{\"op\":\"one\",\"params\":[],\"as\":\"gw_count_fid\"}},{\"fid\":\"gw_mea_val_fid\",\"name\":\"Measure values\",\"analyticType\":\"measure\",\"semanticType\":\"quantitative\",\"aggName\":\"sum\"}],\"rows\":[{\"fid\":\"rent\",\"name\":\"rent (USD)\",\"basename\":\"rent\",\"analyticType\":\"measure\",\"semanticType\":\"quantitative\",\"aggName\":\"median\",\"offset\":0}],\"columns\":[{\"fid\":\"date\",\"name\":\"date\",\"basename\":\"date\",\"semanticType\":\"nominal\",\"analyticType\":\"dimension\",\"offset\":0}],\"color\":[{\"fid\":\"Season\",\"name\":\"Season\",\"basename\":\"Season\",\"semanticType\":\"nominal\",\"analyticType\":\"dimension\",\"offset\":0}],\"opacity\":[],\"size\":[],\"shape\":[],\"radius\":[],\"theta\":[],\"longitude\":[],\"latitude\":[],\"geoId\":[],\"details\":[],\"filters\":[{\"fid\":\"RegionName\",\"name\":\"RegionName\",\"basename\":\"RegionName\",\"semanticType\":\"nominal\",\"analyticType\":\"dimension\",\"offset\":0,\"rule\":{\"type\":\"one of\",\"value\":[\"San Diego, CA\"]}}],\"text\":[]},\"layout\":{\"showActions\":false,\"showTableSummary\":false,\"stack\":\"stack\",\"interactiveScale\":false,\"zeroScale\":true,\"size\":{\"mode\":\"full\",\"width\":320,\"height\":200},\"format\":{},\"geoKey\":\"name\",\"resolve\":{\"x\":false,\"y\":false,\"color\":false,\"opacity\":false,\"shape\":false,\"size\":false}},\"visId\":\"gw_qeTO\",\"name\":\"San Diego Rental Fluctuations \"},{\"config\":{\"defaultAggregated\":true,\"geoms\":[\"auto\"],\"coordSystem\":\"generic\",\"limit\":-1,\"timezoneDisplayOffset\":0},\"encodings\":{\"dimensions\":[{\"fid\":\"RegionName\",\"name\":\"RegionName\",\"basename\":\"RegionName\",\"semanticType\":\"nominal\",\"analyticType\":\"dimension\",\"offset\":0},{\"fid\":\"RegionType\",\"name\":\"RegionType\",\"basename\":\"RegionType\",\"semanticType\":\"nominal\",\"analyticType\":\"dimension\",\"offset\":0},{\"fid\":\"StateName\",\"name\":\"StateName\",\"basename\":\"StateName\",\"semanticType\":\"nominal\",\"analyticType\":\"dimension\",\"offset\":0},{\"fid\":\"date\",\"name\":\"date\",\"basename\":\"date\",\"semanticType\":\"nominal\",\"analyticType\":\"dimension\",\"offset\":0},{\"fid\":\"Season\",\"name\":\"Season\",\"basename\":\"Season\",\"semanticType\":\"nominal\",\"analyticType\":\"dimension\",\"offset\":0},{\"fid\":\"Political Leaning\",\"name\":\"Political Leaning\",\"basename\":\"Political Leaning\",\"semanticType\":\"nominal\",\"analyticType\":\"dimension\",\"offset\":0},{\"fid\":\"gw_mea_key_fid\",\"name\":\"Measure names\",\"analyticType\":\"dimension\",\"semanticType\":\"nominal\"}],\"measures\":[{\"fid\":\"index\",\"name\":\"index\",\"basename\":\"index\",\"analyticType\":\"measure\",\"semanticType\":\"quantitative\",\"aggName\":\"sum\",\"offset\":0},{\"fid\":\"RegionID\",\"name\":\"RegionID\",\"basename\":\"RegionID\",\"analyticType\":\"measure\",\"semanticType\":\"quantitative\",\"aggName\":\"sum\",\"offset\":0},{\"fid\":\"SizeRank\",\"name\":\"SizeRank\",\"basename\":\"SizeRank\",\"analyticType\":\"measure\",\"semanticType\":\"quantitative\",\"aggName\":\"sum\",\"offset\":0},{\"fid\":\"rent\",\"name\":\"rent (USD)\",\"basename\":\"rent\",\"analyticType\":\"measure\",\"semanticType\":\"quantitative\",\"aggName\":\"sum\",\"offset\":0},{\"fid\":\"gw_count_fid\",\"name\":\"Row count\",\"analyticType\":\"measure\",\"semanticType\":\"quantitative\",\"aggName\":\"sum\",\"computed\":true,\"expression\":{\"op\":\"one\",\"params\":[],\"as\":\"gw_count_fid\"}},{\"fid\":\"gw_mea_val_fid\",\"name\":\"Measure values\",\"analyticType\":\"measure\",\"semanticType\":\"quantitative\",\"aggName\":\"sum\"}],\"rows\":[{\"fid\":\"rent\",\"name\":\"rent (USD)\",\"basename\":\"rent\",\"analyticType\":\"measure\",\"semanticType\":\"quantitative\",\"aggName\":\"sum\",\"offset\":0}],\"columns\":[{\"fid\":\"date\",\"name\":\"date\",\"basename\":\"date\",\"semanticType\":\"nominal\",\"analyticType\":\"dimension\",\"offset\":0}],\"color\":[{\"fid\":\"Season\",\"name\":\"Season\",\"basename\":\"Season\",\"semanticType\":\"nominal\",\"analyticType\":\"dimension\",\"offset\":0}],\"opacity\":[],\"size\":[],\"shape\":[],\"radius\":[],\"theta\":[],\"longitude\":[],\"latitude\":[],\"geoId\":[],\"details\":[],\"filters\":[{\"fid\":\"RegionName\",\"name\":\"RegionName\",\"basename\":\"RegionName\",\"semanticType\":\"nominal\",\"analyticType\":\"dimension\",\"offset\":0,\"rule\":{\"type\":\"one of\",\"value\":[\"San Francisco, CA\"]}}],\"text\":[]},\"layout\":{\"showActions\":false,\"showTableSummary\":false,\"stack\":\"stack\",\"interactiveScale\":false,\"zeroScale\":true,\"size\":{\"mode\":\"full\",\"width\":320,\"height\":200},\"format\":{},\"geoKey\":\"name\",\"resolve\":{\"x\":false,\"y\":false,\"color\":false,\"opacity\":false,\"shape\":false,\"size\":false}},\"visId\":\"gw_TCPL\",\"name\":\"San Francisco Rental Fluctuations\"}],\"chart_map\":{},\"workflow_list\":[{\"workflow\":[{\"type\":\"filter\",\"filters\":[{\"fid\":\"RegionName\",\"rule\":{\"type\":\"one of\",\"value\":[\"Los Angeles, CA\"]}}]},{\"type\":\"view\",\"query\":[{\"op\":\"aggregate\",\"groupBy\":[\"date\",\"Season\"],\"measures\":[{\"field\":\"rent\",\"agg\":\"median\",\"asFieldKey\":\"rent_median\"}]}]}]},{\"workflow\":[{\"type\":\"filter\",\"filters\":[{\"fid\":\"RegionName\",\"rule\":{\"type\":\"one of\",\"value\":[\"San Diego, CA\"]}}]},{\"type\":\"view\",\"query\":[{\"op\":\"aggregate\",\"groupBy\":[\"date\",\"Season\"],\"measures\":[{\"field\":\"rent\",\"agg\":\"median\",\"asFieldKey\":\"rent_median\"}]}]}]},{\"workflow\":[{\"type\":\"filter\",\"filters\":[{\"fid\":\"RegionName\",\"rule\":{\"type\":\"one of\",\"value\":[\"San Francisco, CA\"]}}]},{\"type\":\"view\",\"query\":[{\"op\":\"aggregate\",\"groupBy\":[\"date\",\"Season\"],\"measures\":[{\"field\":\"rent\",\"agg\":\"sum\",\"asFieldKey\":\"rent_sum\"}]}]}]}],\"version\":\"0.4.8.5\"}\"\"\"\n",
    "pyg.walk(zillow_ca_rental_df, spec=vis_spec)\n",
    "logger.info('California Rental Data visualized')"
   ]
  },
  {
   "cell_type": "code",
   "execution_count": null,
   "id": "ed46f764-effb-47b4-92be-3ad89949c5c2",
   "metadata": {},
   "outputs": [],
   "source": [
    "import pandas as pd\n",
    "import seaborn as sns\n",
    "import matplotlib.pyplot as plt\n",
    "\n",
    "def plot_correlation_heatmap(df, figsize=(10, 10), cmap='coolwarm', title='Correlation Heatmap'):\n",
    "    # Encode categorical data\n",
    "    df_encoded = pd.get_dummies(df)\n",
    "\n",
    "    correlation_matrix = df_encoded.corr()\n",
    "    \n",
    "    plt.figure(figsize=figsize)\n",
    "\n",
    "    sns.heatmap(correlation_matrix, cmap=cmap, center=0)\n",
    "\n",
    "    plt.title(title)\n",
    "\n",
    "    plt.show()\n"
   ]
  },
  {
   "cell_type": "code",
   "execution_count": null,
   "id": "bcfd245f",
   "metadata": {},
   "outputs": [],
   "source": [
    "import pandas as pd\n",
    "import seaborn as sns  # This is used in the function\n",
    "import matplotlib.pyplot as plt  # This is used in the function\n",
    "\n",
    "def plot_correlation_heatmap(df, figsize=(10, 10), cmap='coolwarm', title='Correlation Heatmap'):\n",
    "    # Encode categorical data\n",
    "    df_encoded = pd.get_dummies(df)\n",
    "\n",
    "\n",
    "    correlation_matrix = df_encoded.corr()\n",
    "    \n",
    "    plt.figure(figsize=figsize)\n",
    "\n",
    "    sns.heatmap(correlation_matrix, cmap=cmap, center=0,  fmt=\".2f\")  # Added annot and fmt\n",
    "\n",
    "    plt.title(title)\n",
    "    plt.show()"
   ]
  },
  {
   "cell_type": "code",
   "execution_count": null,
   "id": "7b855b20-0321-462f-89c9-928f1a655dcd",
   "metadata": {},
   "outputs": [],
   "source": [
    "# Select the required columns from the dataframe\n",
    "training_set1 = zillow_ca_rental_df\n",
    "\n",
    "# Use the plot_correlation_heatmap function to plot the correlation heatmap\n",
    "plot_correlation_heatmap(training_set1,(20,20), title=\"Training Set 1\")\n",
    "logger.info('training set 1 correlation heatmap plotted')"
   ]
  },
  {
   "cell_type": "markdown",
   "id": "fea8c60c",
   "metadata": {},
   "source": [
    "We can see that no given date has any correlation to rent so we can drop the dates from the training set.\n",
    "Seasons also have no correlation to rent so we can drop the seasons from the training set.\n",
    "SizeRank also has no correlation to rent so we can drop the SizeRank from the training set.\n",
    "\n",
    "My only conclusion to this is either I need a better dataset or add new features to the training data.\n",
    "\n",
    "    * I will create the first training set using this dataset and adding features such as unemployment rate, median income, taxes, jobs, population.\n"
   ]
  },
  {
   "cell_type": "code",
   "execution_count": null,
   "id": "61b40827",
   "metadata": {},
   "outputs": [],
   "source": [
    "#TODO(1) write a function to fetch the unemployment rate for each region from the census data.\n",
    "#TODO(2) write a function to fetch the median income for each region from the census data.\n",
    "#TODO(3) write a function to fetch the median income for each region from the census data.\n",
    "#TODO(4) write a function to fetch the median income for each region from the census data.  "
   ]
  }
 ],
 "metadata": {
  "kernelspec": {
   "display_name": "Python 3 (ipykernel)",
   "language": "python",
   "name": "python3"
  },
  "language_info": {
   "codemirror_mode": {
    "name": "ipython",
    "version": 3
   },
   "file_extension": ".py",
   "mimetype": "text/x-python",
   "name": "python",
   "nbconvert_exporter": "python",
   "pygments_lexer": "ipython3",
   "version": "3.8.19"
  }
 },
 "nbformat": 4,
 "nbformat_minor": 5
}
