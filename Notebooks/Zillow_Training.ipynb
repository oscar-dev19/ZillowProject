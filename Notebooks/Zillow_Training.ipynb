{
 "cells": [
  {
   "cell_type": "markdown",
   "metadata": {},
   "source": [
    "# Model Training\n",
    "--- "
   ]
  },
  {
   "cell_type": "markdown",
   "metadata": {},
   "source": [
    "## Zillow CA Rent Model\n",
    "---"
   ]
  },
  {
   "cell_type": "markdown",
   "metadata": {},
   "source": [
    "### Training Data\n",
    "---"
   ]
  },
  {
   "cell_type": "code",
   "execution_count": null,
   "metadata": {},
   "outputs": [],
   "source": [
    "ZILLOW_TRAINING_DATA_ROOT = '../data/Zillow/training/'\n",
    "\n",
    "zillow_ca_rental_training_data_1 = f'{ZILLOW_TRAINING_DATA_ROOT}ca_rental_training_set1.csv'"
   ]
  },
  {
   "cell_type": "markdown",
   "metadata": {},
   "source": [
    "## Model Training\n",
    "---"
   ]
  },
  {
   "cell_type": "code",
   "execution_count": null,
   "metadata": {},
   "outputs": [],
   "source": [
    "from sklearn.model_selection import train_test_split\n",
    "from sklearn.linear_model import LinearRegression\n",
    "from sklearn.metrics import mean_squared_error\n",
    "from sklearn.preprocessing import OneHotEncoder\n",
    "\n",
    "\n",
    "def train_linear_regression_model(data, target_column):\n",
    "    # Split the data into features and target\n",
    "    X = data.drop(columns=[target_column])\n",
    "    y = data[target_column]\n",
    "    # Encode all categorical data in the dataset\n",
    "    \n",
    "    encoder = OneHotEncoder(sparse=False)\n",
    "    encoded_data = pd.DataFrame(encoder.fit_transform(X))\n",
    "    X = encoded_data\n",
    "    # Split the data into training and testing sets\n",
    "    X_train, X_test, y_train, y_test = train_test_split(X, y, test_size=0.2, random_state=42)\n",
    "    \n",
    "    # Initialize the linear regression model\n",
    "    model = LinearRegression()\n",
    "    \n",
    "    # Train the model\n",
    "    model.fit(X_train, y_train)\n",
    "    \n",
    "    return model"
   ]
  },
  {
   "cell_type": "code",
   "execution_count": null,
   "metadata": {},
   "outputs": [],
   "source": [
    "from sklearn.model_selection import GridSearchCV\n",
    "\n",
    "def find_optimal_parameters(X, y, model):\n",
    "    \"\"\"\n",
    "    Finds the optimal parameters for a given linear regression model using GridSearchCV.\n",
    "\n",
    "    Parameters:\n",
    "    X (DataFrame): Features.\n",
    "    y (Series): Target.\n",
    "    model (LinearRegression): The linear regression model instance.\n",
    "\n",
    "    Returns:\n",
    "    dict: A dictionary containing the optimal parameters.\n",
    "    \"\"\"\n",
    "    # Define the parameters to search\n",
    "    param_grid = {\n",
    "        'fit_intercept': [True, False],\n",
    "        'normalize': [True, False],\n",
    "        'copy_X': [True, False]\n",
    "    }\n",
    "    \n",
    "    # Initialize the GridSearchCV with the model and parameters\n",
    "    grid_search = GridSearchCV(model, param_grid, cv=5, scoring='neg_mean_squared_error')\n",
    "    \n",
    "    # Fit the GridSearchCV to the data\n",
    "    grid_search.fit(X, y)\n",
    "    \n",
    "    # Return the optimal parameters\n",
    "    return grid_search.best_params_"
   ]
  },
  {
   "cell_type": "code",
   "execution_count": null,
   "metadata": {},
   "outputs": [],
   "source": [
    "def print_model_metrics(model, x_test, y_test):\n",
    "    from sklearn.metrics import r2_score, mean_absolute_error, mean_squared_error, explained_variance_score\n",
    "    \n",
    "    # Make predictions on the test set\n",
    "    y_pred = model.predict(x_test)\n",
    "    \n",
    "    # Encode categorical data in x_test and y_test\n",
    "    x_test_encoded = pd.get_dummies(x_test, drop_first=True)\n",
    "    y_test_encoded = pd.get_dummies(y_test, drop_first=True)\n",
    "    \n",
    "    # Calculate the metrics on encoded data\n",
    "    mse = mean_squared_error(y_test_encoded, y_pred)\n",
    "    mae = mean_absolute_error(y_test_encoded, y_pred)\n",
    "    r2 = r2_score(y_test_encoded, y_pred)\n",
    "    evs = explained_variance_score(y_test_encoded, y_pred)\n",
    "    \n",
    "    # Print the metrics\n",
    "    print(f\"Mean Squared Error: {mse}\")\n",
    "    print(f\"Mean Absolute Error: {mae}\")\n",
    "    print(f\"R^2 Score: {r2}\")\n",
    "    print(f\"Explained Variance Score: {evs}\")\n",
    "\n",
    "# Example usage\n",
    "# X = training_set1.drop(columns=['rent'])\n",
    "# y = training_set1['rent']\n",
    "# X_train, X_test, y_train, y_test = train_test_split(X, y, test_size=0.2, random_state=42)\n"
   ]
  },
  {
   "cell_type": "code",
   "execution_count": null,
   "metadata": {},
   "outputs": [],
   "source": [
    "from sklearn.ensemble import VotingRegressor\n",
    "\n",
    "def create_ensembled_model(models, X_train, y_train):\n",
    "    \"\"\"\n",
    "    Creates an ensembled model from a given set of models using VotingRegressor.\n",
    "\n",
    "    Parameters:\n",
    "    models (list): List of tuples where each tuple contains a model name and the model instance.\n",
    "    X_train (DataFrame): Training features.\n",
    "    y_train (Series): Training target.\n",
    "\n",
    "    Returns:\n",
    "    VotingRegressor: An ensembled model.\n",
    "    \"\"\"\n",
    "    ensembled_model = VotingRegressor(estimators=models)\n",
    "    ensembled_model.fit(X_train, y_train)\n",
    "    return ensembled_model\n",
    "\n",
    "# Example usage:\n",
    "# models = [('model1', model1), ('model2', model2)]\n",
    "# ensembled_model = create_ensembled_model(models, X_train, y_train)\n",
    "\n",
    "#print_model_metrics(ensembled_model, X_test, y_test)"
   ]
  },
  {
   "cell_type": "code",
   "execution_count": null,
   "metadata": {},
   "outputs": [],
   "source": [
    "import pandas as pd\n",
    "\n",
    "# Load training model to pandas.\n",
    "zillow_ca_rental_training_df_1 = pd.read_csv(zillow_ca_rental_training_data_1)"
   ]
  },
  {
   "cell_type": "markdown",
   "metadata": {},
   "source": [
    "#### Model 1\n",
    "----"
   ]
  },
  {
   "cell_type": "code",
   "execution_count": null,
   "metadata": {},
   "outputs": [],
   "source": [
    "rent_model_1 = train_linear_regression_model(zillow_ca_rental_training_df_1,'rent')"
   ]
  },
  {
   "cell_type": "code",
   "execution_count": null,
   "metadata": {},
   "outputs": [],
   "source": [
    "\n",
    "X = zillow_ca_rental_training_df_1.drop(columns=['rent'])\n",
    "y = zillow_ca_rental_training_df_1['rent']\n",
    "\n",
    "print_model_metrics(model=rent_model_1,x_test=X,y_test=y)"
   ]
  },
  {
   "cell_type": "code",
   "execution_count": null,
   "metadata": {},
   "outputs": [],
   "source": []
  }
 ],
 "metadata": {
  "kernelspec": {
   "display_name": "Python 3",
   "language": "python",
   "name": "python3"
  },
  "language_info": {
   "codemirror_mode": {
    "name": "ipython",
    "version": 3
   },
   "file_extension": ".py",
   "mimetype": "text/x-python",
   "name": "python",
   "nbconvert_exporter": "python",
   "pygments_lexer": "ipython3",
   "version": "3.8.19"
  }
 },
 "nbformat": 4,
 "nbformat_minor": 2
}
