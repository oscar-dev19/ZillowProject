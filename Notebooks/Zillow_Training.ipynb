{
 "cells": [
  {
   "cell_type": "markdown",
   "metadata": {},
   "source": [
    "# Model Training\n",
    "--- "
   ]
  },
  {
   "cell_type": "markdown",
   "metadata": {},
   "source": [
    "## Zillow CA Rent Model\n",
    "---"
   ]
  },
  {
   "cell_type": "code",
   "execution_count": 154,
   "metadata": {},
   "outputs": [],
   "source": [
    "import logging\n",
    "\n",
    "# Create a logger\n",
    "logger = logging.getLogger(__name__)\n",
    "# Set the logging level\n",
    "logger.setLevel(logging.INFO)\n",
    "# Create a file handler which logs even debug messages\n",
    "file_handler = logging.FileHandler('training.log')\n",
    "file_handler.setLevel(logging.INFO)\n",
    "# Create a formatter and set the formatter for the file handler\n",
    "formatter = logging.Formatter('%(asctime)s - %(name)s - %(levelname)s - %(message)s')\n",
    "file_handler.setFormatter(formatter)\n",
    "# Add the handlers to the logger\n",
    "logger.addHandler(file_handler)\n",
    "# Log a message to ensure the logger is working\n",
    "logger.info('Training logger initialized')\n"
   ]
  },
  {
   "cell_type": "markdown",
   "metadata": {},
   "source": [
    "### Load Training Data\n",
    "---"
   ]
  },
  {
   "cell_type": "code",
   "execution_count": 155,
   "metadata": {},
   "outputs": [],
   "source": [
    "import pandas as pd\n",
    "\n",
    "TRAINING_DATA_ROOT_DIR='../data/training_data/'\n",
    "ca_rent_training_set_1 = pd.read_feather(f'{TRAINING_DATA_ROOT_DIR}ca_rent_training_data_1.ft')"
   ]
  },
  {
   "cell_type": "markdown",
   "metadata": {},
   "source": [
    "## Model Training\n",
    "---"
   ]
  },
  {
   "cell_type": "code",
   "execution_count": 156,
   "metadata": {},
   "outputs": [],
   "source": [
    "\n",
    "from sklearn.linear_model import LinearRegression\n",
    "\n",
    "def train_linear_regression(X_train, y_train):\n",
    "    \"\"\"\n",
    "    Trains a linear regression model on the given training data.\n",
    "\n",
    "    Parameters:\n",
    "    X_train (DataFrame): Training features.\n",
    "    y_train (Series): Training target.\n",
    "\n",
    "    Returns:\n",
    "    LinearRegression: The trained linear regression model.\n",
    "    \"\"\"\n",
    "    # Initialize the linear regression model\n",
    "    model = LinearRegression()\n",
    "    \n",
    "    # Fit the model to the training data\n",
    "    model.fit(X_train, y_train)\n",
    "    \n",
    "    # Log the model training completion\n",
    "    logger.info('Linear regression model training completed')\n",
    "    \n",
    "    # Return the trained model\n",
    "    return model\n"
   ]
  },
  {
   "cell_type": "code",
   "execution_count": 157,
   "metadata": {},
   "outputs": [],
   "source": [
    "from sklearn.model_selection import GridSearchCV\n",
    "\n",
    "def find_optimal_parameters(X, y, model):\n",
    "    \"\"\"\n",
    "    Finds the optimal parameters for a given linear regression model using GridSearchCV.\n",
    "\n",
    "    Parameters:\n",
    "    X (DataFrame): Features.\n",
    "    y (Series): Target.\n",
    "    model (LinearRegression): The linear regression model instance.\n",
    "\n",
    "    Returns:\n",
    "    dict: A dictionary containing the optimal parameters.\n",
    "    \"\"\"\n",
    "    # Define the parameters to search\n",
    "    param_grid = {\n",
    "        'fit_intercept': [True, False],\n",
    "        'normalize': [True, False],\n",
    "        'copy_X': [True, False]\n",
    "    }\n",
    "    \n",
    "    # Initialize the GridSearchCV with the model and parameters\n",
    "    grid_search = GridSearchCV(model, param_grid, cv=5, scoring='neg_mean_squared_error')\n",
    "    \n",
    "    # Fit the GridSearchCV to the data\n",
    "    grid_search.fit(X, y)\n",
    "    \n",
    "    # Return the optimal parameters\n",
    "    return grid_search.best_params_"
   ]
  },
  {
   "cell_type": "code",
   "execution_count": null,
   "metadata": {},
   "outputs": [],
   "source": []
  },
  {
   "cell_type": "code",
   "execution_count": 158,
   "metadata": {},
   "outputs": [],
   "source": [
    "from sklearn.ensemble import VotingRegressor\n",
    "\n",
    "def create_ensembled_model(models, X_train, y_train):\n",
    "    \"\"\"\n",
    "    Creates an ensembled model from a given set of models using VotingRegressor.\n",
    "\n",
    "    Parameters:\n",
    "    models (list): List of tuples where each tuple contains a model name and the model instance.\n",
    "    X_train (DataFrame): Training features.\n",
    "    y_train (Series): Training target.\n",
    "\n",
    "    Returns:\n",
    "    VotingRegressor: An ensembled model.\n",
    "    \"\"\"\n",
    "    ensembled_model = VotingRegressor(estimators=models)\n",
    "    ensembled_model.fit(X_train, y_train)\n",
    "    return ensembled_model"
   ]
  },
  {
   "cell_type": "markdown",
   "metadata": {},
   "source": [
    "#### Model 1\n",
    "----"
   ]
  },
  {
   "cell_type": "markdown",
   "metadata": {},
   "source": [
    "\n",
    "## Preparing training data for model training\n",
    "---\n",
    "- encode all categorical data\n",
    "- normalize data\n"
   ]
  },
  {
   "cell_type": "code",
   "execution_count": 159,
   "metadata": {},
   "outputs": [],
   "source": [
    "from dataclasses import dataclass\n",
    "\n",
    "@dataclass\n",
    "@dataclass\n",
    "class Model:\n",
    "    model_name: str\n",
    "    model_metrics: dict\n",
    "    model: object\n",
    "\n",
    "# Example usage:\n",
    "#model1 = Model(\"Linear Regression\", {\"RMSE\": 0.5, \"R2\": 0.8}, LinearRegression())\n",
    "#print(model1.model_name)  # Output: Linear Regression\n",
    "#print(model1.model_metrics)  # Output: {\"RMSE\": 0.5, \"R2\": 0.8}\n",
    "#print(model1.model)  # Output: LinearRegression object\n"
   ]
  },
  {
   "cell_type": "code",
   "execution_count": 160,
   "metadata": {},
   "outputs": [],
   "source": [
    "from sklearn.preprocessing import OneHotEncoder, StandardScaler\n",
    "\n",
    "def preprocess_data(df):\n",
    "    \"\"\"\n",
    "    Encodes all categorical data and normalizes the data.\n",
    "\n",
    "    Parameters:\n",
    "    df (DataFrame): DataFrame to preprocess.\n",
    "\n",
    "    Returns:\n",
    "    DataFrame: Preprocessed DataFrame.\n",
    "    \"\"\"\n",
    "    # Initialize encoder and scaler\n",
    "    encoder = OneHotEncoder(sparse=False)\n",
    "    scaler = StandardScaler()\n",
    "\n",
    "    # Fit and transform categorical data\n",
    "    encoded_data = encoder.fit_transform(df.select_dtypes(include=['object']))\n",
    "\n",
    "    # Drop original categorical columns\n",
    "    df = df.drop(columns=df.select_dtypes(include=['object']).columns)\n",
    "\n",
    "    # Add encoded data to the DataFrame\n",
    "    df = df.join(pd.DataFrame(encoded_data, columns=encoder.get_feature_names_out()))\n",
    "\n",
    "    # Scale numerical data\n",
    "    scaled_data = scaler.fit_transform(df.select_dtypes(include=['int64', 'float64']))\n",
    "\n",
    "    # Replace original numerical columns with scaled data\n",
    "    df = pd.DataFrame(scaled_data, columns=df.select_dtypes(include=['int64', 'float64']).columns)\n",
    "\n",
    "    return df"
   ]
  },
  {
   "cell_type": "code",
   "execution_count": 161,
   "metadata": {},
   "outputs": [
    {
     "name": "stderr",
     "output_type": "stream",
     "text": [
      "/Users/oscarlopez/Desktop/portfolio/Zillow_Housing_Predictor/env/zillow_project/lib/python3.8/site-packages/sklearn/preprocessing/_encoders.py:975: FutureWarning: `sparse` was renamed to `sparse_output` in version 1.2 and will be removed in 1.4. `sparse_output` is ignored unless you leave `sparse` to its default value.\n",
      "  warnings.warn(\n"
     ]
    }
   ],
   "source": [
    "prepped_ca_rent_training_data_1 = preprocess_data(ca_rent_training_set_1)"
   ]
  },
  {
   "cell_type": "markdown",
   "metadata": {},
   "source": [
    "## Training Linear Regression Models\n",
    "---"
   ]
  },
  {
   "cell_type": "code",
   "execution_count": 162,
   "metadata": {},
   "outputs": [],
   "source": [
    "import matplotlib.pyplot as plt\n",
    "def display_model_metrics_as_bar(model, X_test, y_test):\n",
    "    \"\"\"\n",
    "    Displays the metrics of a model as a bar graph, including MSE, R2, MAE, and Accuracy.\n",
    "    \n",
    "    Parameters:\n",
    "    - model: The model to evaluate.\n",
    "    - X_test: The test features.\n",
    "    - y_test: The test target.\n",
    "    \"\"\"\n",
    "    from sklearn.metrics import mean_squared_error, r2_score, mean_absolute_error, accuracy_score\n",
    "    \n",
    "    # Predictions\n",
    "    y_pred = model.predict(X_test)\n",
    "    \n",
    "    # Metrics\n",
    "    mse = mean_squared_error(y_test, y_pred)\n",
    "    r2 = r2_score(y_test, y_pred)\n",
    "    mae = mean_absolute_error(y_test, y_pred)\n",
    "    # Check if y_test is binary for accuracy calculation\n",
    "    if y_test.nunique() == 2:  # Assuming binary classification if y_test has only two unique values\n",
    "        accuracy = accuracy_score(y_test, y_pred > 0.5)  # Assuming binary classification with threshold 0.5\n",
    "    else:\n",
    "        accuracy = None  # Set accuracy to None if y_test is not binary\n",
    "    \n",
    "    # Plotting\n",
    "    plt.figure(figsize=(15, 5))  # Adjusted figure size to accommodate four metrics\n",
    "    metrics_to_plot = ['MSE', 'R2', 'MAE']\n",
    "    values_to_plot = [mse, r2, mae]\n",
    "    if accuracy is not None:\n",
    "        metrics_to_plot.append('Accuracy')\n",
    "        values_to_plot.append(accuracy)\n",
    "    plt.bar(metrics_to_plot, values_to_plot)\n",
    "    plt.xlabel('Metric')\n",
    "    plt.ylabel('Value')\n",
    "    plt.title(f'Model Metrics: MSE={mse:.2f}, R2={r2:.2f}, MAE={mae:.2f}, Accuracy={accuracy:.2f}' if accuracy is not None else f'Model Metrics: MSE={mse:.2f}, R2={r2:.2f}, MAE={mae:.2f}')\n",
    "    plt.grid(True)\n",
    "    plt.show()"
   ]
  },
  {
   "cell_type": "code",
   "execution_count": 163,
   "metadata": {},
   "outputs": [],
   "source": [
    "X_train = prepped_ca_rent_training_data_1.drop('rent', axis=1)\n",
    "y_train = prepped_ca_rent_training_data_1['rent']\n",
    "\n",
    "\n",
    "\n",
    "lr_ca_rent_model_1 = train_linear_regression(X_train,y_train)\n"
   ]
  },
  {
   "cell_type": "code",
   "execution_count": 164,
   "metadata": {},
   "outputs": [
    {
     "data": {
      "image/png": "[encoded data removed]",
      "text/plain": [
       "<Figure size 1500x500 with 1 Axes>"
      ]
     },
     "metadata": {},
     "output_type": "display_data"
    }
   ],
   "source": [
    "from sklearn.model_selection import train_test_split\n",
    "\n",
    "X_train, X_test, y_train, y_test = train_test_split(X_train, y_train, test_size=0.2, random_state=42)\n",
    "\n",
    "display_model_metrics_as_bar(lr_ca_rent_model_1,X_test,y_test)"
   ]
  },
  {
   "cell_type": "markdown",
   "metadata": {},
   "source": [
    "## Testing Regression Models\n",
    "---"
   ]
  },
  {
   "cell_type": "code",
   "execution_count": 165,
   "metadata": {},
   "outputs": [],
   "source": [
    "def test_regression_model(model, X_test, y_test):\n",
    "    \"\"\"\n",
    "    Tests a given regression model on the provided test data and returns a dictionary containing relevant metrics, including Mean Squared Error (MSE), R-Squared (R2), Mean Absolute Error (MAE), and a custom accuracy metric.\n",
    "    \n",
    "    Parameters:\n",
    "    - model: The regression model to be tested.\n",
    "    - X_test: The test data features.\n",
    "    - y_test: The test data target variable.\n",
    "    \n",
    "    Returns:\n",
    "    - A dictionary containing the model's metrics, including Mean Squared Error (MSE), R-Squared (R2), Mean Absolute Error (MAE), and a custom accuracy metric.\n",
    "    \"\"\"\n",
    "    from sklearn.metrics import mean_squared_error, r2_score, mean_absolute_error\n",
    "    \n",
    "    # Predictions\n",
    "    y_pred = model.predict(X_test)\n",
    "    \n",
    "    # Metrics calculation\n",
    "    mse = mean_squared_error(y_test, y_pred)\n",
    "    r2 = r2_score(y_test, y_pred)\n",
    "    mae = mean_absolute_error(y_test, y_pred)\n",
    "    \n",
    "    # Return metrics as a dictionary\n",
    "    return {\n",
    "        'MSE': mse,\n",
    "        'R2': r2,\n",
    "        'MAE': mae,\n",
    "    }"
   ]
  },
  {
   "cell_type": "markdown",
   "metadata": {},
   "source": [
    "### Model 1 Metrics.\n",
    "---"
   ]
  },
  {
   "cell_type": "code",
   "execution_count": 166,
   "metadata": {},
   "outputs": [
    {
     "name": "stdout",
     "output_type": "stream",
     "text": [
      "{'MSE': 0.30406086617963124, 'R2': 0.704835429491867, 'MAE': 0.42314376265998965}\n"
     ]
    }
   ],
   "source": [
    "# Will be saving model as a dataclass object.\n",
    "lr_ca_rent_model_1_metrics = test_regression_model(lr_ca_rent_model_1, X_test, y_test)\n",
    "print(lr_ca_rent_model_1_metrics)\n",
    "model_1 = Model(model_name='CA_Rental_Linear_Regression_Model_1', model = lr_ca_rent_model_1, model_metrics=lr_ca_rent_model_1_metrics)\n",
    "\n"
   ]
  },
  {
   "cell_type": "code",
   "execution_count": 167,
   "metadata": {},
   "outputs": [],
   "source": [
    "import pickle\n",
    "import json\n",
    "import os\n",
    "\n",
    "def save_model(model: Model, root_directory: str):\n",
    "    \"\"\"\n",
    "    Saves a model dataclass object to a directory named after the model within a specified root directory and saves its metrics as a JSON file within the same directory.\n",
    "\n",
    "    Parameters:\n",
    "    - model: The model dataclass object to be saved.\n",
    "    - root_directory: The root directory where the model directory will be created.\n",
    "    \"\"\"\n",
    "    # Construct the directory path for the model\n",
    "    model_directory = f\"{root_directory}/{model.model_name}\"\n",
    "    \n",
    "    # Ensure the directory exists\n",
    "    os.makedirs(model_directory, exist_ok=True)\n",
    "    \n",
    "    # Construct the file path for the model\n",
    "    model_file_path = f\"{model_directory}/{model.model_name}.pkl\"\n",
    "    \n",
    "    # Open the file in binary write mode\n",
    "    with open(model_file_path, 'wb') as file:\n",
    "        # Use pickle to serialize and save the model\n",
    "        pickle.dump(model, file)\n",
    "    \n",
    "    # Construct the file path for the metrics\n",
    "    metrics_file_path = f\"{model_directory}/{model.model_name}_metrics.json\"\n",
    "    \n",
    "    # Open the file in write mode\n",
    "    with open(metrics_file_path, 'w') as file:\n",
    "        # Use json to serialize and save the metrics\n",
    "        json.dump(model.model_metrics, file)\n",
    "    \n",
    "    print(f\"Model saved to {model_file_path} and metrics saved to {metrics_file_path}\")\n"
   ]
  },
  {
   "cell_type": "markdown",
   "metadata": {},
   "source": []
  },
  {
   "cell_type": "markdown",
   "metadata": {},
   "source": [
    "## Optimizing Models\n",
    "---\n"
   ]
  },
  {
   "cell_type": "code",
   "execution_count": 168,
   "metadata": {},
   "outputs": [],
   "source": [
    "from sklearn.model_selection import GridSearchCV\n",
    "\n",
    "def find_optimal_parameters(X, y, model):\n",
    "    \"\"\"\n",
    "    Finds the optimal parameters for a given linear regression model using GridSearchCV.\n",
    "\n",
    "    Parameters:\n",
    "    X (DataFrame): Features.\n",
    "    y (Series): Target.\n",
    "    model (LinearRegression): The linear regression model instance.\n",
    "\n",
    "    Returns:\n",
    "    dict: A dictionary containing the optimal parameters.\n",
    "    \"\"\"\n",
    "    # Define the parameters to search\n",
    "    param_grid = {\n",
    "        'fit_intercept': [True, False],\n",
    "        'positive': [True, False],\n",
    "        'copy_X': [True, False]\n",
    "    }\n",
    "    \n",
    "    # Initialize the GridSearchCV with the model and parameters\n",
    "    grid_search = GridSearchCV(model, param_grid, cv=5, scoring='neg_mean_squared_error', n_jobs=-1)\n",
    "    \n",
    "    # Ensure X and y have consistent sample sizes\n",
    "    if len(X) != len(y):\n",
    "        raise ValueError(\"X and y must have the same number of samples.\")\n",
    "    \n",
    "    # Fit the GridSearchCV to the data using all available CPU cores for faster processing\n",
    "    grid_search.fit(X, y)\n",
    "    \n",
    "    # Return the optimal parameters\n",
    "    return grid_search.best_params_"
   ]
  },
  {
   "cell_type": "code",
   "execution_count": 169,
   "metadata": {},
   "outputs": [],
   "source": [
    "def optimize_regression_model(model, X_train, y_train):\n",
    "    optimal_parameters = find_optimal_parameters(X_train, y_train, model)\n",
    "    model.set_params(**optimal_parameters)\n",
    "    return model\n"
   ]
  },
  {
   "cell_type": "code",
   "execution_count": 170,
   "metadata": {},
   "outputs": [],
   "source": [
    "optimized_model_1 = optimize_regression_model(X_train=X_train,y_train=y_train,model = model_1.model)"
   ]
  },
  {
   "cell_type": "code",
   "execution_count": 171,
   "metadata": {},
   "outputs": [],
   "source": [
    "\n",
    "optimized_regression_model_1_metrics = test_regression_model(optimized_model_1, X_test, y_test)\n"
   ]
  },
  {
   "cell_type": "code",
   "execution_count": 172,
   "metadata": {},
   "outputs": [],
   "source": [
    "optimized_regression_model_1 = Model(model_name='Optimized CA Rent Linear Regression Model 1', model_metrics=optimized_regression_model_1_metrics,model=optimized_model_1)"
   ]
  },
  {
   "cell_type": "code",
   "execution_count": 173,
   "metadata": {},
   "outputs": [
    {
     "ename": "NameError",
     "evalue": "name 'os' is not defined",
     "output_type": "error",
     "traceback": [
      "\u001b[0;31m---------------------------------------------------------------------------\u001b[0m",
      "\u001b[0;31mNameError\u001b[0m                                 Traceback (most recent call last)",
      "Cell \u001b[0;32mIn[173], line 3\u001b[0m\n\u001b[1;32m      1\u001b[0m MODEL_ROOT_DIR \u001b[38;5;241m=\u001b[39m \u001b[38;5;124m'\u001b[39m\u001b[38;5;124m../models/\u001b[39m\u001b[38;5;124m'\u001b[39m\n\u001b[0;32m----> 3\u001b[0m \u001b[43msave_model\u001b[49m\u001b[43m(\u001b[49m\u001b[43moptimized_regression_model_1\u001b[49m\u001b[43m,\u001b[49m\u001b[43mMODEL_ROOT_DIR\u001b[49m\u001b[43m)\u001b[49m\n",
      "Cell \u001b[0;32mIn[167], line 16\u001b[0m, in \u001b[0;36msave_model\u001b[0;34m(model, root_directory)\u001b[0m\n\u001b[1;32m     13\u001b[0m model_directory \u001b[38;5;241m=\u001b[39m \u001b[38;5;124mf\u001b[39m\u001b[38;5;124m\"\u001b[39m\u001b[38;5;132;01m{\u001b[39;00mroot_directory\u001b[38;5;132;01m}\u001b[39;00m\u001b[38;5;124m/\u001b[39m\u001b[38;5;132;01m{\u001b[39;00mmodel\u001b[38;5;241m.\u001b[39mmodel_name\u001b[38;5;132;01m}\u001b[39;00m\u001b[38;5;124m\"\u001b[39m\n\u001b[1;32m     15\u001b[0m \u001b[38;5;66;03m# Ensure the directory exists\u001b[39;00m\n\u001b[0;32m---> 16\u001b[0m \u001b[43mos\u001b[49m\u001b[38;5;241m.\u001b[39mmakedirs(model_directory, exist_ok\u001b[38;5;241m=\u001b[39m\u001b[38;5;28;01mTrue\u001b[39;00m)\n\u001b[1;32m     18\u001b[0m \u001b[38;5;66;03m# Construct the file path for the model\u001b[39;00m\n\u001b[1;32m     19\u001b[0m model_file_path \u001b[38;5;241m=\u001b[39m \u001b[38;5;124mf\u001b[39m\u001b[38;5;124m\"\u001b[39m\u001b[38;5;132;01m{\u001b[39;00mmodel_directory\u001b[38;5;132;01m}\u001b[39;00m\u001b[38;5;124m/\u001b[39m\u001b[38;5;132;01m{\u001b[39;00mmodel\u001b[38;5;241m.\u001b[39mmodel_name\u001b[38;5;132;01m}\u001b[39;00m\u001b[38;5;124m.pkl\u001b[39m\u001b[38;5;124m\"\u001b[39m\n",
      "\u001b[0;31mNameError\u001b[0m: name 'os' is not defined"
     ]
    }
   ],
   "source": [
    "MODEL_ROOT_DIR = '../models/'\n",
    "\n",
    "save_model(optimized_regression_model_1,MODEL_ROOT_DIR)\n"
   ]
  },
  {
   "cell_type": "code",
   "execution_count": null,
   "metadata": {},
   "outputs": [],
   "source": []
  }
 ],
 "metadata": {
  "kernelspec": {
   "display_name": "Python 3",
   "language": "python",
   "name": "python3"
  },
  "language_info": {
   "codemirror_mode": {
    "name": "ipython",
    "version": 3
   },
   "file_extension": ".py",
   "mimetype": "text/x-python",
   "name": "python",
   "nbconvert_exporter": "python",
   "pygments_lexer": "ipython3",
   "version": "3.8.19"
  }
 },
 "nbformat": 4,
 "nbformat_minor": 2
}
