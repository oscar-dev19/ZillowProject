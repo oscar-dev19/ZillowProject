{
 "cells": [
  {
   "cell_type": "markdown",
   "metadata": {},
   "source": [
    "# Model Training\n",
    "--- "
   ]
  },
  {
   "cell_type": "markdown",
   "metadata": {},
   "source": [
    "## Zillow CA Rent Model\n",
    "---"
   ]
  },
  {
   "cell_type": "code",
   "execution_count": 1,
   "metadata": {},
   "outputs": [],
   "source": [
    "import logging\n",
    "\n",
    "# Create a logger\n",
    "logger = logging.getLogger(__name__)\n",
    "\n",
    "# Set the logging level\n",
    "logger.setLevel(logging.INFO)\n",
    "\n",
    "# Create a file handler which logs even debug messages\n",
    "file_handler = logging.FileHandler('training.log')\n",
    "file_handler.setLevel(logging.INFO)\n",
    "\n",
    "# Create a formatter and set the formatter for the file handler\n",
    "formatter = logging.Formatter('%(asctime)s - %(name)s - %(levelname)s - %(message)s')\n",
    "file_handler.setFormatter(formatter)\n",
    "\n",
    "# Add the handlers to the logger\n",
    "logger.addHandler(file_handler)\n",
    "\n",
    "# Log a message to ensure the logger is working\n",
    "logger.info('Training logger initialized')\n"
   ]
  },
  {
   "cell_type": "markdown",
   "metadata": {},
   "source": [
    "### Load Training Data\n",
    "---"
   ]
  },
  {
   "cell_type": "code",
   "execution_count": 2,
   "metadata": {},
   "outputs": [],
   "source": [
    "import pandas as pd\n",
    "\n",
    "TRAINING_DATA_ROOT_DIR='../data/training_data/'\n",
    "ca_rent_training_set_1 = pd.read_feather(f'{TRAINING_DATA_ROOT_DIR}ca_rent_training_data_1.ft')"
   ]
  },
  {
   "cell_type": "markdown",
   "metadata": {},
   "source": [
    "## Model Training\n",
    "---"
   ]
  },
  {
   "cell_type": "code",
   "execution_count": 3,
   "metadata": {},
   "outputs": [],
   "source": [
    "\n",
    "from sklearn.linear_model import LinearRegression\n",
    "\n",
    "def train_linear_regression(X_train, y_train):\n",
    "    \"\"\"\n",
    "    Trains a linear regression model on the given training data.\n",
    "\n",
    "    Parameters:\n",
    "    X_train (DataFrame): Training features.\n",
    "    y_train (Series): Training target.\n",
    "\n",
    "    Returns:\n",
    "    LinearRegression: The trained linear regression model.\n",
    "    \"\"\"\n",
    "    # Initialize the linear regression model\n",
    "    model = LinearRegression()\n",
    "    \n",
    "    # Fit the model to the training data\n",
    "    model.fit(X_train, y_train)\n",
    "    \n",
    "    # Log the model training completion\n",
    "    logger.info('Linear regression model training completed')\n",
    "    \n",
    "    # Return the trained model\n",
    "    return model\n"
   ]
  },
  {
   "cell_type": "code",
   "execution_count": 4,
   "metadata": {},
   "outputs": [],
   "source": [
    "from sklearn.model_selection import GridSearchCV\n",
    "\n",
    "def find_optimal_parameters(X, y, model):\n",
    "    \"\"\"\n",
    "    Finds the optimal parameters for a given linear regression model using GridSearchCV.\n",
    "\n",
    "    Parameters:\n",
    "    X (DataFrame): Features.\n",
    "    y (Series): Target.\n",
    "    model (LinearRegression): The linear regression model instance.\n",
    "\n",
    "    Returns:\n",
    "    dict: A dictionary containing the optimal parameters.\n",
    "    \"\"\"\n",
    "    # Define the parameters to search\n",
    "    param_grid = {\n",
    "        'fit_intercept': [True, False],\n",
    "        'normalize': [True, False],\n",
    "        'copy_X': [True, False]\n",
    "    }\n",
    "    \n",
    "    # Initialize the GridSearchCV with the model and parameters\n",
    "    grid_search = GridSearchCV(model, param_grid, cv=5, scoring='neg_mean_squared_error')\n",
    "    \n",
    "    # Fit the GridSearchCV to the data\n",
    "    grid_search.fit(X, y)\n",
    "    \n",
    "    # Return the optimal parameters\n",
    "    return grid_search.best_params_"
   ]
  },
  {
   "cell_type": "code",
   "execution_count": 5,
   "metadata": {},
   "outputs": [],
   "source": [
    "import pandas as pd\n",
    "def print_model_metrics(model, x_test, y_test):\n",
    "    from sklearn.metrics import r2_score, mean_absolute_error, mean_squared_error, explained_variance_score\n",
    "    \n",
    "    logger.info('Starting model metrics calculation')\n",
    "    \n",
    "    # Make predictions on the test set\n",
    "    logger.info('Making predictions on the test set')\n",
    "    y_pred = model.predict(x_test)\n",
    "    \n",
    "    # Calculate the metrics on encoded data\n",
    "    logger.info('Calculating metrics on encoded data')\n",
    "    try:\n",
    "        mse = mean_squared_error(y_test, y_pred)\n",
    "        mae = mean_absolute_error(y_test, y_pred)\n",
    "        r2 = r2_score(y_test, y_pred)\n",
    "        evs = explained_variance_score(y_test, y_pred)\n",
    "    except Exception as e:\n",
    "        logger.error(f'Error calculating model metrics: {e}')\n",
    "        return\n",
    "    \n",
    "    # Print the metrics\n",
    "    logger.info('Printing model metrics')\n",
    "    print(f\"Mean Squared Error: {mse}\")\n",
    "    print(f\"Mean Absolute Error: {mae}\")\n",
    "    print(f\"R^2 Score: {r2}\")\n",
    "    print(f\"Explained Variance Score: {evs}\")\n",
    "    \n",
    "    logger.info('Model metrics calculation completed')\n",
    "\n",
    "# Example usage\n",
    "# X = training_set1.drop(columns=['rent'])\n",
    "# y = training_set1['rent']\n",
    "# X_train, X_test, y_train, y_test = train_test_split(X, y, test_size=0.2, random_state=42)\n"
   ]
  },
  {
   "cell_type": "code",
   "execution_count": 6,
   "metadata": {},
   "outputs": [],
   "source": [
    "from sklearn.ensemble import VotingRegressor\n",
    "\n",
    "def create_ensembled_model(models, X_train, y_train):\n",
    "    \"\"\"\n",
    "    Creates an ensembled model from a given set of models using VotingRegressor.\n",
    "\n",
    "    Parameters:\n",
    "    models (list): List of tuples where each tuple contains a model name and the model instance.\n",
    "    X_train (DataFrame): Training features.\n",
    "    y_train (Series): Training target.\n",
    "\n",
    "    Returns:\n",
    "    VotingRegressor: An ensembled model.\n",
    "    \"\"\"\n",
    "    ensembled_model = VotingRegressor(estimators=models)\n",
    "    ensembled_model.fit(X_train, y_train)\n",
    "    return ensembled_model\n",
    "\n",
    "# Example usage:\n",
    "# models = [('model1', model1), ('model2', model2)]\n",
    "# ensembled_model = create_ensembled_model(models, X_train, y_train)\n",
    "\n",
    "#print_model_metrics(ensembled_model, X_test, y_test)"
   ]
  },
  {
   "cell_type": "markdown",
   "metadata": {},
   "source": [
    "#### Model 1\n",
    "----"
   ]
  },
  {
   "cell_type": "markdown",
   "metadata": {},
   "source": [
    "\n",
    "## Preparing training data for model training\n",
    "---\n",
    "- encode all categorical data\n",
    "- normalize data\n"
   ]
  },
  {
   "cell_type": "code",
   "execution_count": 7,
   "metadata": {},
   "outputs": [],
   "source": [
    "from sklearn.preprocessing import OneHotEncoder, StandardScaler\n",
    "\n",
    "def preprocess_data(df):\n",
    "    \"\"\"\n",
    "    Encodes all categorical data and normalizes the data.\n",
    "\n",
    "    Parameters:\n",
    "    df (DataFrame): DataFrame to preprocess.\n",
    "\n",
    "    Returns:\n",
    "    DataFrame: Preprocessed DataFrame.\n",
    "    \"\"\"\n",
    "    # Initialize encoder and scaler\n",
    "    encoder = OneHotEncoder(sparse=False)\n",
    "    scaler = StandardScaler()\n",
    "\n",
    "    # Fit and transform categorical data\n",
    "    encoded_data = encoder.fit_transform(df.select_dtypes(include=['object']))\n",
    "\n",
    "    # Drop original categorical columns\n",
    "    df = df.drop(columns=df.select_dtypes(include=['object']).columns)\n",
    "\n",
    "    # Add encoded data to the DataFrame\n",
    "    df = df.join(pd.DataFrame(encoded_data, columns=encoder.get_feature_names_out()))\n",
    "\n",
    "    # Scale numerical data\n",
    "    scaled_data = scaler.fit_transform(df.select_dtypes(include=['int64', 'float64']))\n",
    "\n",
    "    # Replace original numerical columns with scaled data\n",
    "    df = pd.DataFrame(scaled_data, columns=df.select_dtypes(include=['int64', 'float64']).columns)\n",
    "\n",
    "    return df"
   ]
  },
  {
   "cell_type": "code",
   "execution_count": 8,
   "metadata": {},
   "outputs": [
    {
     "name": "stderr",
     "output_type": "stream",
     "text": [
      "/Users/oscarlopez/Desktop/portfolio/Zillow_Housing_Predictor/env/zillow_project/lib/python3.8/site-packages/sklearn/preprocessing/_encoders.py:975: FutureWarning: `sparse` was renamed to `sparse_output` in version 1.2 and will be removed in 1.4. `sparse_output` is ignored unless you leave `sparse` to its default value.\n",
      "  warnings.warn(\n"
     ]
    }
   ],
   "source": [
    "prpped_ca_rent_training_data_1 = preprocess_data(ca_rent_training_set_1)"
   ]
  },
  {
   "cell_type": "markdown",
   "metadata": {},
   "source": [
    "## Training first Linear Regression Model\n",
    "---\n",
    "- test size = 0.2\n",
    "- random state = 42"
   ]
  },
  {
   "cell_type": "code",
   "execution_count": 9,
   "metadata": {},
   "outputs": [
    {
     "name": "stdout",
     "output_type": "stream",
     "text": [
      "Mean Squared Error: 0.3072537855692576\n",
      "Mean Absolute Error: 0.42635675374001986\n",
      "R^2 Score: 0.7017359294077312\n",
      "Explained Variance Score: 0.7036508248414703\n"
     ]
    }
   ],
   "source": [
    "from sklearn.model_selection import train_test_split\n",
    "\n",
    "X = prpped_ca_rent_training_data_1.drop('rent', axis=1)\n",
    "y = prpped_ca_rent_training_data_1['rent']\n",
    "\n",
    "X_train, X_test, y_train, y_test = train_test_split(X, y, test_size=0.2, random_state=42)\n",
    "\n",
    "# Train the model\n",
    "lr_ca_rent_model_1 = train_linear_regression(X_train, y_train)\n",
    "\n",
    "# Print model statistics\n",
    "print_model_metrics(lr_ca_rent_model_1, X_test, y_test)\n",
    "\n"
   ]
  },
  {
   "cell_type": "code",
   "execution_count": 10,
   "metadata": {},
   "outputs": [
    {
     "name": "stdout",
     "output_type": "stream",
     "text": [
      "Mean Squared Error: 0.2878823467434421\n",
      "Mean Absolute Error: 0.4158968947553501\n",
      "R^2 Score: 0.712080338241182\n",
      "Explained Variance Score: 0.7125725543910766\n"
     ]
    }
   ],
   "source": [
    "X_train, X_test, y_train, y_test = train_test_split(X, y, test_size=0.5, random_state=42)\n",
    "lr_ca_rent_model_2 = train_linear_regression(X_train,y_train)\n",
    "\n",
    "print_model_metrics(lr_ca_rent_model_2, X_test,y_test)"
   ]
  },
  {
   "cell_type": "code",
   "execution_count": 11,
   "metadata": {},
   "outputs": [],
   "source": [
    "lr_models = [('Linear Regression CA Rent Model 1', lr_ca_rent_model_1),('Linear Regression CA Rent Model 2', lr_ca_rent_model_2)]\n",
    "ens_lr_ca_rent_model = create_ensembled_model(lr_models,X_train,y_train)"
   ]
  },
  {
   "cell_type": "code",
   "execution_count": 12,
   "metadata": {},
   "outputs": [
    {
     "name": "stdout",
     "output_type": "stream",
     "text": [
      "Mean Squared Error: 0.2878823467434421\n",
      "Mean Absolute Error: 0.4158968947553501\n",
      "R^2 Score: 0.712080338241182\n",
      "Explained Variance Score: 0.7125725543910766\n"
     ]
    }
   ],
   "source": [
    "print_model_metrics(ens_lr_ca_rent_model,X_test,y_test)"
   ]
  },
  {
   "cell_type": "code",
   "execution_count": 13,
   "metadata": {},
   "outputs": [],
   "source": [
    "import matplotlib.pyplot as plt\n",
    "def display_model_metrics_as_bar(model, X_test, y_test):\n",
    "    \"\"\"\n",
    "    Displays the metrics of a model as a bar graph, including MSE, R2, and MAE.\n",
    "    \n",
    "    Parameters:\n",
    "    - model: The model to evaluate.\n",
    "    - X_test: The test features.\n",
    "    - y_test: The test target.\n",
    "    \"\"\"\n",
    "    from sklearn.metrics import mean_squared_error, r2_score, mean_absolute_error\n",
    "    \n",
    "    # Predictions\n",
    "    y_pred = model.predict(X_test)\n",
    "    \n",
    "    # Metrics\n",
    "    mse = mean_squared_error(y_test, y_pred)\n",
    "    r2 = r2_score(y_test, y_pred)\n",
    "    mae = mean_absolute_error(y_test, y_pred)\n",
    "    \n",
    "    # Plotting\n",
    "    plt.figure(figsize=(12, 5))  # Adjusted figure size to accommodate three metrics\n",
    "    plt.bar(['MSE', 'R2', 'MAE'], [mse, r2, mae])\n",
    "    plt.xlabel('Metric')\n",
    "    plt.ylabel('Value')\n",
    "    plt.title(f'Model Metrics: MSE={mse:.2f}, R2={r2:.2f}, MAE={mae:.2f}')\n",
    "    plt.grid(True)\n",
    "    plt.show()"
   ]
  },
  {
   "cell_type": "code",
   "execution_count": 14,
   "metadata": {},
   "outputs": [
    {
     "data": {
      "image/png": "[encoded data removed]",
      "text/plain": [
       "<Figure size 1200x500 with 1 Axes>"
      ]
     },
     "metadata": {},
     "output_type": "display_data"
    }
   ],
   "source": [
    "display_model_metrics_as_bar(lr_ca_rent_model_1,X_test,y_test)"
   ]
  },
  {
   "cell_type": "code",
   "execution_count": 15,
   "metadata": {},
   "outputs": [
    {
     "data": {
      "image/png": "[encoded data removed]",
      "text/plain": [
       "<Figure size 1200x500 with 1 Axes>"
      ]
     },
     "metadata": {},
     "output_type": "display_data"
    }
   ],
   "source": [
    "display_model_metrics_as_bar(lr_ca_rent_model_2,X_test,y_test)"
   ]
  },
  {
   "cell_type": "code",
   "execution_count": 16,
   "metadata": {},
   "outputs": [
    {
     "data": {
      "image/png": "[encoded data removed]",
      "text/plain": [
       "<Figure size 1200x500 with 1 Axes>"
      ]
     },
     "metadata": {},
     "output_type": "display_data"
    }
   ],
   "source": [
    "display_model_metrics_as_bar(ens_lr_ca_rent_model,X_test,y_test)"
   ]
  },
  {
   "cell_type": "markdown",
   "metadata": {},
   "source": [
    "The MSE error is the same in the second model as it is ensembled, no performance gain.\n",
    "Looking at these models we can tell we need better features and more training data."
   ]
  },
  {
   "cell_type": "markdown",
   "metadata": {},
   "source": []
  },
  {
   "cell_type": "markdown",
   "metadata": {},
   "source": [
    " ---\n",
    " However regardless of performace I will use these models to test in later enmsembles and analyze performance then."
   ]
  },
  {
   "cell_type": "markdown",
   "metadata": {},
   "source": []
  },
  {
   "cell_type": "code",
   "execution_count": 17,
   "metadata": {},
   "outputs": [
    {
     "name": "stdout",
     "output_type": "stream",
     "text": [
      "Mean Squared Error: 0.2838825637701443\n",
      "Mean Absolute Error: 0.4107744309654374\n",
      "R^2 Score: 0.7160806396622583\n",
      "Explained Variance Score: 0.716506183087116\n",
      "Mean Squared Error: 0.2878823467434421\n",
      "Mean Absolute Error: 0.4158968947553501\n",
      "R^2 Score: 0.712080338241182\n",
      "Explained Variance Score: 0.7125725543910766\n",
      "Mean Squared Error: 0.2878823467434421\n",
      "Mean Absolute Error: 0.4158968947553501\n",
      "R^2 Score: 0.712080338241182\n",
      "Explained Variance Score: 0.7125725543910766\n"
     ]
    }
   ],
   "source": [
    "import os\n",
    "import json\n",
    "\n",
    "# Define the models to save\n",
    "models_to_save = [lr_ca_rent_model_1, lr_ca_rent_model_2, ens_lr_ca_rent_model]\n",
    "model_names = ['lr_ca_rent_model_1', 'lr_ca_rent_model_2', 'ens_lr_ca_rent_model']\n",
    "\n",
    "# Define the directory to save the models\n",
    "base_dir = '/Users/oscarlopez/Desktop/portfolio/Zillow_Housing_Predictor/Models'\n",
    "\n",
    "# Loop through each model and save it along with its metrics\n",
    "for model, model_name in zip(models_to_save, model_names):\n",
    "    # Create a directory for the model if it doesn't exist\n",
    "    model_dir = os.path.join(base_dir, model_name)\n",
    "    if not os.path.exists(model_dir):\n",
    "        os.makedirs(model_dir)\n",
    "    \n",
    "    # Save the model using pickle\n",
    "    model_path = os.path.join(model_dir, f'{model_name}.pkl')\n",
    "    with open(model_path, 'wb') as f:\n",
    "        import pickle\n",
    "        pickle.dump(model, f)\n",
    "    \n",
    "    # Calculate and save the metrics\n",
    "    metrics = print_model_metrics(model, X_test, y_test)\n",
    "    metrics_path = os.path.join(model_dir, f'{model_name}_metrics.json')\n",
    "    with open(metrics_path, 'w') as f:\n",
    "        json.dump(metrics, f)\n"
   ]
  },
  {
   "cell_type": "code",
   "execution_count": null,
   "metadata": {},
   "outputs": [],
   "source": []
  }
 ],
 "metadata": {
  "kernelspec": {
   "display_name": "Python 3",
   "language": "python",
   "name": "python3"
  },
  "language_info": {
   "codemirror_mode": {
    "name": "ipython",
    "version": 3
   },
   "file_extension": ".py",
   "mimetype": "text/x-python",
   "name": "python",
   "nbconvert_exporter": "python",
   "pygments_lexer": "ipython3",
   "version": "3.8.19"
  }
 },
 "nbformat": 4,
 "nbformat_minor": 2
}
